{
  "cells": [
    {
      "cell_type": "code",
      "execution_count": 1,
      "metadata": {},
      "outputs": [
        {
          "name": "stdout",
          "output_type": "stream",
          "text": [
            "Requirement already satisfied: matplotlib in c:\\users\\akash\\appdata\\local\\programs\\python\\python38\\lib\\site-packages (3.7.5)\n",
            "Requirement already satisfied: seaborn in c:\\users\\akash\\appdata\\local\\programs\\python\\python38\\lib\\site-packages (0.13.2)\n",
            "Requirement already satisfied: contourpy>=1.0.1 in c:\\users\\akash\\appdata\\local\\programs\\python\\python38\\lib\\site-packages (from matplotlib) (1.1.1)\n",
            "Requirement already satisfied: cycler>=0.10 in c:\\users\\akash\\appdata\\local\\programs\\python\\python38\\lib\\site-packages (from matplotlib) (0.12.1)\n",
            "Requirement already satisfied: fonttools>=4.22.0 in c:\\users\\akash\\appdata\\local\\programs\\python\\python38\\lib\\site-packages (from matplotlib) (4.51.0)\n",
            "Requirement already satisfied: kiwisolver>=1.0.1 in c:\\users\\akash\\appdata\\local\\programs\\python\\python38\\lib\\site-packages (from matplotlib) (1.4.5)\n",
            "Requirement already satisfied: numpy<2,>=1.20 in c:\\users\\akash\\appdata\\local\\programs\\python\\python38\\lib\\site-packages (from matplotlib) (1.23.5)\n",
            "Requirement already satisfied: packaging>=20.0 in c:\\users\\akash\\appdata\\local\\programs\\python\\python38\\lib\\site-packages (from matplotlib) (22.0)\n",
            "Requirement already satisfied: pillow>=6.2.0 in c:\\users\\akash\\appdata\\local\\programs\\python\\python38\\lib\\site-packages (from matplotlib) (9.3.0)\n",
            "Requirement already satisfied: pyparsing>=2.3.1 in c:\\users\\akash\\appdata\\local\\programs\\python\\python38\\lib\\site-packages (from matplotlib) (3.1.2)\n",
            "Requirement already satisfied: python-dateutil>=2.7 in c:\\users\\akash\\appdata\\local\\programs\\python\\python38\\lib\\site-packages (from matplotlib) (2.8.2)\n",
            "Requirement already satisfied: importlib-resources>=3.2.0 in c:\\users\\akash\\appdata\\local\\programs\\python\\python38\\lib\\site-packages (from matplotlib) (6.4.0)\n",
            "Requirement already satisfied: pandas>=1.2 in c:\\users\\akash\\appdata\\local\\programs\\python\\python38\\lib\\site-packages (from seaborn) (1.5.2)\n",
            "Requirement already satisfied: zipp>=3.1.0 in c:\\users\\akash\\appdata\\roaming\\python\\python38\\site-packages (from importlib-resources>=3.2.0->matplotlib) (3.18.1)\n",
            "Requirement already satisfied: pytz>=2020.1 in c:\\users\\akash\\appdata\\local\\programs\\python\\python38\\lib\\site-packages (from pandas>=1.2->seaborn) (2022.6)\n",
            "Requirement already satisfied: six>=1.5 in c:\\users\\akash\\appdata\\roaming\\python\\python38\\site-packages (from python-dateutil>=2.7->matplotlib) (1.16.0)\n"
          ]
        }
      ],
      "source": [
        "!pip install matplotlib seaborn"
      ]
    },
    {
      "cell_type": "code",
      "execution_count": 2,
      "metadata": {
        "id": "vAuQo0-w00Nv"
      },
      "outputs": [],
      "source": [
        "import numpy as np\n",
        "import pandas as pd\n",
        "import matplotlib.pyplot as plt\n",
        "import seaborn as sns"
      ]
    },
    {
      "cell_type": "markdown",
      "metadata": {
        "id": "q1WshH0i00Nx"
      },
      "source": [
        "### Step 2: Load Data"
      ]
    },
    {
      "cell_type": "code",
      "execution_count": 3,
      "metadata": {
        "id": "4nrv3nXm00Ny"
      },
      "outputs": [],
      "source": [
        "ratings = pd.read_csv('rating.csv')"
      ]
    },
    {
      "cell_type": "code",
      "execution_count": 4,
      "metadata": {
        "id": "Sv_T6eSe00Nz"
      },
      "outputs": [],
      "source": [
        "movies = pd.read_csv('movie.csv')"
      ]
    },
    {
      "cell_type": "code",
      "execution_count": 5,
      "metadata": {
        "colab": {
          "base_uri": "https://localhost:8080/",
          "height": 206
        },
        "id": "ieLzE5CS1IYk",
        "outputId": "5cf9b91b-5d77-4c59-a09c-752c6fa6dca0"
      },
      "outputs": [
        {
          "data": {
            "text/html": [
              "<div>\n",
              "<style scoped>\n",
              "    .dataframe tbody tr th:only-of-type {\n",
              "        vertical-align: middle;\n",
              "    }\n",
              "\n",
              "    .dataframe tbody tr th {\n",
              "        vertical-align: top;\n",
              "    }\n",
              "\n",
              "    .dataframe thead th {\n",
              "        text-align: right;\n",
              "    }\n",
              "</style>\n",
              "<table border=\"1\" class=\"dataframe\">\n",
              "  <thead>\n",
              "    <tr style=\"text-align: right;\">\n",
              "      <th></th>\n",
              "      <th>userId</th>\n",
              "      <th>movieId</th>\n",
              "      <th>rating</th>\n",
              "      <th>timestamp</th>\n",
              "    </tr>\n",
              "  </thead>\n",
              "  <tbody>\n",
              "    <tr>\n",
              "      <th>0</th>\n",
              "      <td>1</td>\n",
              "      <td>2</td>\n",
              "      <td>3.5</td>\n",
              "      <td>2005-04-02 23:53:47</td>\n",
              "    </tr>\n",
              "    <tr>\n",
              "      <th>1</th>\n",
              "      <td>1</td>\n",
              "      <td>29</td>\n",
              "      <td>3.5</td>\n",
              "      <td>2005-04-02 23:31:16</td>\n",
              "    </tr>\n",
              "    <tr>\n",
              "      <th>2</th>\n",
              "      <td>1</td>\n",
              "      <td>32</td>\n",
              "      <td>3.5</td>\n",
              "      <td>2005-04-02 23:33:39</td>\n",
              "    </tr>\n",
              "    <tr>\n",
              "      <th>3</th>\n",
              "      <td>1</td>\n",
              "      <td>47</td>\n",
              "      <td>3.5</td>\n",
              "      <td>2005-04-02 23:32:07</td>\n",
              "    </tr>\n",
              "    <tr>\n",
              "      <th>4</th>\n",
              "      <td>1</td>\n",
              "      <td>50</td>\n",
              "      <td>3.5</td>\n",
              "      <td>2005-04-02 23:29:40</td>\n",
              "    </tr>\n",
              "  </tbody>\n",
              "</table>\n",
              "</div>"
            ],
            "text/plain": [
              "   userId  movieId  rating            timestamp\n",
              "0       1        2     3.5  2005-04-02 23:53:47\n",
              "1       1       29     3.5  2005-04-02 23:31:16\n",
              "2       1       32     3.5  2005-04-02 23:33:39\n",
              "3       1       47     3.5  2005-04-02 23:32:07\n",
              "4       1       50     3.5  2005-04-02 23:29:40"
            ]
          },
          "execution_count": 5,
          "metadata": {},
          "output_type": "execute_result"
        }
      ],
      "source": [
        "ratings.head()"
      ]
    },
    {
      "cell_type": "code",
      "execution_count": 6,
      "metadata": {
        "colab": {
          "base_uri": "https://localhost:8080/",
          "height": 206
        },
        "id": "zELM0tK61MjL",
        "outputId": "e2647489-545c-4812-820e-0c52c5915d79"
      },
      "outputs": [
        {
          "data": {
            "text/html": [
              "<div>\n",
              "<style scoped>\n",
              "    .dataframe tbody tr th:only-of-type {\n",
              "        vertical-align: middle;\n",
              "    }\n",
              "\n",
              "    .dataframe tbody tr th {\n",
              "        vertical-align: top;\n",
              "    }\n",
              "\n",
              "    .dataframe thead th {\n",
              "        text-align: right;\n",
              "    }\n",
              "</style>\n",
              "<table border=\"1\" class=\"dataframe\">\n",
              "  <thead>\n",
              "    <tr style=\"text-align: right;\">\n",
              "      <th></th>\n",
              "      <th>movieId</th>\n",
              "      <th>title</th>\n",
              "      <th>genres</th>\n",
              "    </tr>\n",
              "  </thead>\n",
              "  <tbody>\n",
              "    <tr>\n",
              "      <th>0</th>\n",
              "      <td>1</td>\n",
              "      <td>Toy Story (1995)</td>\n",
              "      <td>Adventure|Animation|Children|Comedy|Fantasy</td>\n",
              "    </tr>\n",
              "    <tr>\n",
              "      <th>1</th>\n",
              "      <td>2</td>\n",
              "      <td>Jumanji (1995)</td>\n",
              "      <td>Adventure|Children|Fantasy</td>\n",
              "    </tr>\n",
              "    <tr>\n",
              "      <th>2</th>\n",
              "      <td>3</td>\n",
              "      <td>Grumpier Old Men (1995)</td>\n",
              "      <td>Comedy|Romance</td>\n",
              "    </tr>\n",
              "    <tr>\n",
              "      <th>3</th>\n",
              "      <td>4</td>\n",
              "      <td>Waiting to Exhale (1995)</td>\n",
              "      <td>Comedy|Drama|Romance</td>\n",
              "    </tr>\n",
              "    <tr>\n",
              "      <th>4</th>\n",
              "      <td>5</td>\n",
              "      <td>Father of the Bride Part II (1995)</td>\n",
              "      <td>Comedy</td>\n",
              "    </tr>\n",
              "  </tbody>\n",
              "</table>\n",
              "</div>"
            ],
            "text/plain": [
              "   movieId                               title  \\\n",
              "0        1                    Toy Story (1995)   \n",
              "1        2                      Jumanji (1995)   \n",
              "2        3             Grumpier Old Men (1995)   \n",
              "3        4            Waiting to Exhale (1995)   \n",
              "4        5  Father of the Bride Part II (1995)   \n",
              "\n",
              "                                        genres  \n",
              "0  Adventure|Animation|Children|Comedy|Fantasy  \n",
              "1                   Adventure|Children|Fantasy  \n",
              "2                               Comedy|Romance  \n",
              "3                         Comedy|Drama|Romance  \n",
              "4                                       Comedy  "
            ]
          },
          "execution_count": 6,
          "metadata": {},
          "output_type": "execute_result"
        }
      ],
      "source": [
        "movies.head()"
      ]
    },
    {
      "cell_type": "markdown",
      "metadata": {
        "id": "XQ00gmTm00N0"
      },
      "source": [
        "### Step 3: Exploratory Data Analysis"
      ]
    },
    {
      "cell_type": "code",
      "execution_count": 7,
      "metadata": {
        "colab": {
          "base_uri": "https://localhost:8080/"
        },
        "id": "FrUtxwUt00N0",
        "outputId": "cbde262b-f558-4452-f797-49057f8bca76"
      },
      "outputs": [
        {
          "name": "stdout",
          "output_type": "stream",
          "text": [
            "Number of ratings: 20000263\n",
            "Number of unique movieId's: 26744\n",
            "Number of unique users: 138493\n",
            "Average number of ratings per user: 144.41\n",
            "Average number of ratings per movie: 747.84\n"
          ]
        }
      ],
      "source": [
        "n_ratings = len(ratings)\n",
        "n_movies = ratings['movieId'].nunique()\n",
        "n_users = ratings['userId'].nunique()\n",
        "\n",
        "print(f\"Number of ratings: {n_ratings}\")\n",
        "print(f\"Number of unique movieId's: {n_movies}\")\n",
        "print(f\"Number of unique users: {n_users}\")\n",
        "print(f\"Average number of ratings per user: {round(n_ratings/n_users, 2)}\")\n",
        "print(f\"Average number of ratings per movie: {round(n_ratings/n_movies, 2)}\")"
      ]
    },
    {
      "cell_type": "markdown",
      "metadata": {
        "id": "wHyEukFD00N1"
      },
      "source": [
        "### What is the distribution of movie ratings?"
      ]
    },
    {
      "cell_type": "code",
      "execution_count": 8,
      "metadata": {
        "colab": {
          "base_uri": "https://localhost:8080/",
          "height": 473
        },
        "id": "HxmJACtl00N3",
        "outputId": "cee675d8-f160-4790-a2d1-06333ce1105e"
      },
      "outputs": [
        {
          "data": {
            "image/png": "[encoded data removed]",
            "text/plain": [
              "<Figure size 640x480 with 1 Axes>"
            ]
          },
          "metadata": {},
          "output_type": "display_data"
        }
      ],
      "source": [
        "sns.countplot(x='rating', data=ratings)\n",
        "plt.title(\"Distribution of movie ratings\", fontsize=14)\n",
        "plt.show()"
      ]
    },
    {
      "cell_type": "code",
      "execution_count": 9,
      "metadata": {
        "colab": {
          "base_uri": "https://localhost:8080/"
        },
        "id": "vzFuM1uy00N4",
        "outputId": "e94c6951-73a1-4420-af79-c8b79e6f09c5"
      },
      "outputs": [
        {
          "name": "stdout",
          "output_type": "stream",
          "text": [
            "Mean global rating: 3.53.\n"
          ]
        }
      ],
      "source": [
        "print(f\"Mean  global rating: {round(ratings['rating'].mean(),2)}.\")"
      ]
    },
    {
      "cell_type": "code",
      "execution_count": 10,
      "metadata": {
        "colab": {
          "base_uri": "https://localhost:8080/"
        },
        "id": "QSoGutWb00N5",
        "outputId": "04e3b208-ceb3-41e6-a825-c0d2c308d9b5"
      },
      "outputs": [
        {
          "name": "stdout",
          "output_type": "stream",
          "text": [
            "Mean rating per user: 3.63.\n"
          ]
        }
      ],
      "source": [
        "mean_ratings = ratings.groupby('userId')['rating'].mean()\n",
        "print(f\"Mean rating per user: {round(mean_ratings.mean(),2)}.\")"
      ]
    },
    {
      "cell_type": "markdown",
      "metadata": {
        "id": "FeZXi0HR00N5"
      },
      "source": [
        "### Which movies are most frequently rated?"
      ]
    },
    {
      "cell_type": "code",
      "execution_count": 11,
      "metadata": {
        "colab": {
          "base_uri": "https://localhost:8080/"
        },
        "id": "rfbnUEoU00N6",
        "outputId": "b24d6363-8066-43f0-c71a-9b8d5d1bdfef"
      },
      "outputs": [
        {
          "data": {
            "text/plain": [
              "Pulp Fiction (1994)                          67310\n",
              "Forrest Gump (1994)                          66172\n",
              "Shawshank Redemption, The (1994)             63366\n",
              "Silence of the Lambs, The (1991)             63299\n",
              "Jurassic Park (1993)                         59715\n",
              "Star Wars: Episode IV - A New Hope (1977)    54502\n",
              "Braveheart (1995)                            53769\n",
              "Terminator 2: Judgment Day (1991)            52244\n",
              "Matrix, The (1999)                           51334\n",
              "Schindler's List (1993)                      50054\n",
              "Name: title, dtype: int64"
            ]
          },
          "execution_count": 11,
          "metadata": {},
          "output_type": "execute_result"
        }
      ],
      "source": [
        "movie_ratings = ratings.merge( movies, on='movieId'  )\n",
        "movie_ratings['title'].value_counts()[0:10]"
      ]
    },
    {
      "cell_type": "code",
      "execution_count": 12,
      "metadata": {
        "colab": {
          "base_uri": "https://localhost:8080/",
          "height": 424
        },
        "id": "8DYvZ2F12WTy",
        "outputId": "32ea4799-efbf-496d-8eb6-6b36ab7abe98"
      },
      "outputs": [
        {
          "data": {
            "text/html": [
              "<div>\n",
              "<style scoped>\n",
              "    .dataframe tbody tr th:only-of-type {\n",
              "        vertical-align: middle;\n",
              "    }\n",
              "\n",
              "    .dataframe tbody tr th {\n",
              "        vertical-align: top;\n",
              "    }\n",
              "\n",
              "    .dataframe thead th {\n",
              "        text-align: right;\n",
              "    }\n",
              "</style>\n",
              "<table border=\"1\" class=\"dataframe\">\n",
              "  <thead>\n",
              "    <tr style=\"text-align: right;\">\n",
              "      <th></th>\n",
              "      <th>userId</th>\n",
              "      <th>movieId</th>\n",
              "      <th>rating</th>\n",
              "      <th>timestamp</th>\n",
              "      <th>title</th>\n",
              "      <th>genres</th>\n",
              "    </tr>\n",
              "  </thead>\n",
              "  <tbody>\n",
              "    <tr>\n",
              "      <th>0</th>\n",
              "      <td>1</td>\n",
              "      <td>2</td>\n",
              "      <td>3.5</td>\n",
              "      <td>2005-04-02 23:53:47</td>\n",
              "      <td>Jumanji (1995)</td>\n",
              "      <td>Adventure|Children|Fantasy</td>\n",
              "    </tr>\n",
              "    <tr>\n",
              "      <th>1</th>\n",
              "      <td>5</td>\n",
              "      <td>2</td>\n",
              "      <td>3.0</td>\n",
              "      <td>1996-12-25 15:26:09</td>\n",
              "      <td>Jumanji (1995)</td>\n",
              "      <td>Adventure|Children|Fantasy</td>\n",
              "    </tr>\n",
              "    <tr>\n",
              "      <th>2</th>\n",
              "      <td>13</td>\n",
              "      <td>2</td>\n",
              "      <td>3.0</td>\n",
              "      <td>1996-11-27 08:19:02</td>\n",
              "      <td>Jumanji (1995)</td>\n",
              "      <td>Adventure|Children|Fantasy</td>\n",
              "    </tr>\n",
              "    <tr>\n",
              "      <th>3</th>\n",
              "      <td>29</td>\n",
              "      <td>2</td>\n",
              "      <td>3.0</td>\n",
              "      <td>1996-06-23 20:36:14</td>\n",
              "      <td>Jumanji (1995)</td>\n",
              "      <td>Adventure|Children|Fantasy</td>\n",
              "    </tr>\n",
              "    <tr>\n",
              "      <th>4</th>\n",
              "      <td>34</td>\n",
              "      <td>2</td>\n",
              "      <td>3.0</td>\n",
              "      <td>1996-10-28 13:29:44</td>\n",
              "      <td>Jumanji (1995)</td>\n",
              "      <td>Adventure|Children|Fantasy</td>\n",
              "    </tr>\n",
              "    <tr>\n",
              "      <th>...</th>\n",
              "      <td>...</td>\n",
              "      <td>...</td>\n",
              "      <td>...</td>\n",
              "      <td>...</td>\n",
              "      <td>...</td>\n",
              "      <td>...</td>\n",
              "    </tr>\n",
              "    <tr>\n",
              "      <th>20000258</th>\n",
              "      <td>138301</td>\n",
              "      <td>121017</td>\n",
              "      <td>3.5</td>\n",
              "      <td>2015-01-06 15:34:39</td>\n",
              "      <td>The Gentleman from Epsom (1962)</td>\n",
              "      <td>Comedy|Crime</td>\n",
              "    </tr>\n",
              "    <tr>\n",
              "      <th>20000259</th>\n",
              "      <td>138301</td>\n",
              "      <td>121019</td>\n",
              "      <td>4.5</td>\n",
              "      <td>2015-01-06 15:36:46</td>\n",
              "      <td>The Great Spy Chase (1964)</td>\n",
              "      <td>Action|Comedy|Thriller</td>\n",
              "    </tr>\n",
              "    <tr>\n",
              "      <th>20000260</th>\n",
              "      <td>138301</td>\n",
              "      <td>121021</td>\n",
              "      <td>4.5</td>\n",
              "      <td>2015-01-06 15:38:07</td>\n",
              "      <td>Taxi for Tobruk (1961)</td>\n",
              "      <td>Drama|War</td>\n",
              "    </tr>\n",
              "    <tr>\n",
              "      <th>20000261</th>\n",
              "      <td>138406</td>\n",
              "      <td>110167</td>\n",
              "      <td>4.5</td>\n",
              "      <td>2014-03-30 12:55:27</td>\n",
              "      <td>Judge and the Assassin, The (Juge et l'assassi...</td>\n",
              "      <td>Crime|Drama</td>\n",
              "    </tr>\n",
              "    <tr>\n",
              "      <th>20000262</th>\n",
              "      <td>138406</td>\n",
              "      <td>110510</td>\n",
              "      <td>4.5</td>\n",
              "      <td>2014-04-15 21:32:19</td>\n",
              "      <td>Série noire (1979)</td>\n",
              "      <td>Film-Noir</td>\n",
              "    </tr>\n",
              "  </tbody>\n",
              "</table>\n",
              "<p>20000263 rows × 6 columns</p>\n",
              "</div>"
            ],
            "text/plain": [
              "          userId  movieId  rating            timestamp  \\\n",
              "0              1        2     3.5  2005-04-02 23:53:47   \n",
              "1              5        2     3.0  1996-12-25 15:26:09   \n",
              "2             13        2     3.0  1996-11-27 08:19:02   \n",
              "3             29        2     3.0  1996-06-23 20:36:14   \n",
              "4             34        2     3.0  1996-10-28 13:29:44   \n",
              "...          ...      ...     ...                  ...   \n",
              "20000258  138301   121017     3.5  2015-01-06 15:34:39   \n",
              "20000259  138301   121019     4.5  2015-01-06 15:36:46   \n",
              "20000260  138301   121021     4.5  2015-01-06 15:38:07   \n",
              "20000261  138406   110167     4.5  2014-03-30 12:55:27   \n",
              "20000262  138406   110510     4.5  2014-04-15 21:32:19   \n",
              "\n",
              "                                                      title  \\\n",
              "0                                            Jumanji (1995)   \n",
              "1                                            Jumanji (1995)   \n",
              "2                                            Jumanji (1995)   \n",
              "3                                            Jumanji (1995)   \n",
              "4                                            Jumanji (1995)   \n",
              "...                                                     ...   \n",
              "20000258                    The Gentleman from Epsom (1962)   \n",
              "20000259                         The Great Spy Chase (1964)   \n",
              "20000260                             Taxi for Tobruk (1961)   \n",
              "20000261  Judge and the Assassin, The (Juge et l'assassi...   \n",
              "20000262                                 Série noire (1979)   \n",
              "\n",
              "                              genres  \n",
              "0         Adventure|Children|Fantasy  \n",
              "1         Adventure|Children|Fantasy  \n",
              "2         Adventure|Children|Fantasy  \n",
              "3         Adventure|Children|Fantasy  \n",
              "4         Adventure|Children|Fantasy  \n",
              "...                              ...  \n",
              "20000258                Comedy|Crime  \n",
              "20000259      Action|Comedy|Thriller  \n",
              "20000260                   Drama|War  \n",
              "20000261                 Crime|Drama  \n",
              "20000262                   Film-Noir  \n",
              "\n",
              "[20000263 rows x 6 columns]"
            ]
          },
          "execution_count": 12,
          "metadata": {},
          "output_type": "execute_result"
        }
      ],
      "source": [
        "movie_ratings"
      ]
    },
    {
      "cell_type": "markdown",
      "metadata": {
        "id": "hgbiKLzE00N6"
      },
      "source": [
        "Forrest Gump, Shawshank Redemption, and Pulp Fiction have the most ratings."
      ]
    },
    {
      "cell_type": "markdown",
      "metadata": {
        "id": "oEzK9gGt00N6"
      },
      "source": [
        "### What are the lowest and highest rated movies?\n",
        "\n",
        "### Which movie has the lowest and highest average rating?"
      ]
    },
    {
      "cell_type": "code",
      "execution_count": 13,
      "metadata": {
        "colab": {
          "base_uri": "https://localhost:8080/",
          "height": 81
        },
        "id": "p94f-TIa00N7",
        "outputId": "878ab730-9b36-4fa0-a7e2-9302e7757a03"
      },
      "outputs": [
        {
          "data": {
            "text/html": [
              "<div>\n",
              "<style scoped>\n",
              "    .dataframe tbody tr th:only-of-type {\n",
              "        vertical-align: middle;\n",
              "    }\n",
              "\n",
              "    .dataframe tbody tr th {\n",
              "        vertical-align: top;\n",
              "    }\n",
              "\n",
              "    .dataframe thead th {\n",
              "        text-align: right;\n",
              "    }\n",
              "</style>\n",
              "<table border=\"1\" class=\"dataframe\">\n",
              "  <thead>\n",
              "    <tr style=\"text-align: right;\">\n",
              "      <th></th>\n",
              "      <th>movieId</th>\n",
              "      <th>title</th>\n",
              "      <th>genres</th>\n",
              "    </tr>\n",
              "  </thead>\n",
              "  <tbody>\n",
              "    <tr>\n",
              "      <th>5706</th>\n",
              "      <td>5805</td>\n",
              "      <td>Besotted (2001)</td>\n",
              "      <td>Drama</td>\n",
              "    </tr>\n",
              "  </tbody>\n",
              "</table>\n",
              "</div>"
            ],
            "text/plain": [
              "      movieId            title genres\n",
              "5706     5805  Besotted (2001)  Drama"
            ]
          },
          "execution_count": 13,
          "metadata": {},
          "output_type": "execute_result"
        }
      ],
      "source": [
        "mean_ratings = ratings.groupby('movieId')[['rating']].mean()\n",
        "lowest_rated = mean_ratings['rating'].idxmin()\n",
        "\n",
        "movies[movies['movieId'] == lowest_rated]"
      ]
    },
    {
      "cell_type": "markdown",
      "metadata": {
        "id": "6uk0q3Y100N7"
      },
      "source": [
        "`Gypsy` has the lowest average rating."
      ]
    },
    {
      "cell_type": "code",
      "execution_count": 14,
      "metadata": {
        "colab": {
          "base_uri": "https://localhost:8080/",
          "height": 81
        },
        "id": "9AL--Hr500N7",
        "outputId": "eb36c2c0-2db3-4a39-9cdc-27544828f078"
      },
      "outputs": [
        {
          "data": {
            "text/html": [
              "<div>\n",
              "<style scoped>\n",
              "    .dataframe tbody tr th:only-of-type {\n",
              "        vertical-align: middle;\n",
              "    }\n",
              "\n",
              "    .dataframe tbody tr th {\n",
              "        vertical-align: top;\n",
              "    }\n",
              "\n",
              "    .dataframe thead th {\n",
              "        text-align: right;\n",
              "    }\n",
              "</style>\n",
              "<table border=\"1\" class=\"dataframe\">\n",
              "  <thead>\n",
              "    <tr style=\"text-align: right;\">\n",
              "      <th></th>\n",
              "      <th>movieId</th>\n",
              "      <th>title</th>\n",
              "      <th>genres</th>\n",
              "    </tr>\n",
              "  </thead>\n",
              "  <tbody>\n",
              "    <tr>\n",
              "      <th>9007</th>\n",
              "      <td>26718</td>\n",
              "      <td>Life On A String (Bian chang Bian Zou) (1991)</td>\n",
              "      <td>Adventure|Drama|Fantasy|Musical</td>\n",
              "    </tr>\n",
              "  </tbody>\n",
              "</table>\n",
              "</div>"
            ],
            "text/plain": [
              "      movieId                                          title  \\\n",
              "9007    26718  Life On A String (Bian chang Bian Zou) (1991)   \n",
              "\n",
              "                               genres  \n",
              "9007  Adventure|Drama|Fantasy|Musical  "
            ]
          },
          "execution_count": 14,
          "metadata": {},
          "output_type": "execute_result"
        }
      ],
      "source": [
        "highest_rated = mean_ratings['rating'].idxmax()\n",
        "movies[movies['movieId'] == highest_rated]"
      ]
    },
    {
      "cell_type": "markdown",
      "metadata": {
        "id": "je9ms08q00N8"
      },
      "source": [
        "How many ratings does `Lamerica` have?"
      ]
    },
    {
      "cell_type": "code",
      "execution_count": 15,
      "metadata": {
        "colab": {
          "base_uri": "https://localhost:8080/",
          "height": 112
        },
        "id": "HFdmJBd_00N8",
        "outputId": "079850cb-c148-4d8a-c161-f63e747f0fca"
      },
      "outputs": [
        {
          "data": {
            "text/html": [
              "<div>\n",
              "<style scoped>\n",
              "    .dataframe tbody tr th:only-of-type {\n",
              "        vertical-align: middle;\n",
              "    }\n",
              "\n",
              "    .dataframe tbody tr th {\n",
              "        vertical-align: top;\n",
              "    }\n",
              "\n",
              "    .dataframe thead th {\n",
              "        text-align: right;\n",
              "    }\n",
              "</style>\n",
              "<table border=\"1\" class=\"dataframe\">\n",
              "  <thead>\n",
              "    <tr style=\"text-align: right;\">\n",
              "      <th></th>\n",
              "      <th>userId</th>\n",
              "      <th>movieId</th>\n",
              "      <th>rating</th>\n",
              "      <th>timestamp</th>\n",
              "    </tr>\n",
              "  </thead>\n",
              "  <tbody>\n",
              "    <tr>\n",
              "      <th>11067861</th>\n",
              "      <td>76495</td>\n",
              "      <td>26718</td>\n",
              "      <td>5.0</td>\n",
              "      <td>2012-03-19 03:51:41</td>\n",
              "    </tr>\n",
              "  </tbody>\n",
              "</table>\n",
              "</div>"
            ],
            "text/plain": [
              "          userId  movieId  rating            timestamp\n",
              "11067861   76495    26718     5.0  2012-03-19 03:51:41"
            ]
          },
          "execution_count": 15,
          "metadata": {},
          "output_type": "execute_result"
        }
      ],
      "source": [
        "ratings[ratings['movieId']==highest_rated]"
      ]
    },
    {
      "cell_type": "markdown",
      "metadata": {
        "id": "OrVEv3PF00N9"
      },
      "source": [
        "`Lamerica` may be the \"highest\" rated movie, but it only has 2 ratings. A better approach for evaluating movie popularity is to do look at the [Bayesian average](https://en.wikipedia.org/wiki/Bayesian_average)."
      ]
    },
    {
      "cell_type": "markdown",
      "metadata": {
        "id": "-OCQldur00N9"
      },
      "source": [
        "#### Bayesian Average\n",
        "\n",
        "[Bayesian Average](https://en.wikipedia.org/wiki/Bayesian_average) is defined as:\n",
        "\n",
        "$r_{i} = \\frac{C \\times m + \\Sigma{\\text{reviews}}}{C+N}$\n",
        "\n",
        "where $C$ represents our confidence, $m$ represents our prior, and $N$ is the total number of reviews for movie $i$.\n",
        "\n",
        "- $C$ represents \"the typical data set size\". In this case, $C$ will be the average number of ratings for a given movie.\n",
        "- $m$ represents the average rating across all movies"
      ]
    },
    {
      "cell_type": "code",
      "execution_count": 16,
      "metadata": {
        "colab": {
          "base_uri": "https://localhost:8080/",
          "height": 238
        },
        "id": "xFIfJaN400N9",
        "outputId": "54bb1b67-77cb-4bf6-a1b5-1a7c20476a15"
      },
      "outputs": [
        {
          "data": {
            "text/html": [
              "<div>\n",
              "<style scoped>\n",
              "    .dataframe tbody tr th:only-of-type {\n",
              "        vertical-align: middle;\n",
              "    }\n",
              "\n",
              "    .dataframe tbody tr th {\n",
              "        vertical-align: top;\n",
              "    }\n",
              "\n",
              "    .dataframe thead th {\n",
              "        text-align: right;\n",
              "    }\n",
              "</style>\n",
              "<table border=\"1\" class=\"dataframe\">\n",
              "  <thead>\n",
              "    <tr style=\"text-align: right;\">\n",
              "      <th></th>\n",
              "      <th>count</th>\n",
              "      <th>mean</th>\n",
              "    </tr>\n",
              "    <tr>\n",
              "      <th>movieId</th>\n",
              "      <th></th>\n",
              "      <th></th>\n",
              "    </tr>\n",
              "  </thead>\n",
              "  <tbody>\n",
              "    <tr>\n",
              "      <th>1</th>\n",
              "      <td>49695</td>\n",
              "      <td>3.921240</td>\n",
              "    </tr>\n",
              "    <tr>\n",
              "      <th>2</th>\n",
              "      <td>22243</td>\n",
              "      <td>3.211977</td>\n",
              "    </tr>\n",
              "    <tr>\n",
              "      <th>3</th>\n",
              "      <td>12735</td>\n",
              "      <td>3.151040</td>\n",
              "    </tr>\n",
              "    <tr>\n",
              "      <th>4</th>\n",
              "      <td>2756</td>\n",
              "      <td>2.861393</td>\n",
              "    </tr>\n",
              "    <tr>\n",
              "      <th>5</th>\n",
              "      <td>12161</td>\n",
              "      <td>3.064592</td>\n",
              "    </tr>\n",
              "  </tbody>\n",
              "</table>\n",
              "</div>"
            ],
            "text/plain": [
              "         count      mean\n",
              "movieId                 \n",
              "1        49695  3.921240\n",
              "2        22243  3.211977\n",
              "3        12735  3.151040\n",
              "4         2756  2.861393\n",
              "5        12161  3.064592"
            ]
          },
          "execution_count": 16,
          "metadata": {},
          "output_type": "execute_result"
        }
      ],
      "source": [
        "movie_stats = ratings.groupby('movieId')['rating'].agg(['count','mean'])\n",
        "movie_stats.head()"
      ]
    },
    {
      "cell_type": "code",
      "execution_count": 17,
      "metadata": {
        "colab": {
          "base_uri": "https://localhost:8080/"
        },
        "id": "8s1ndqpa00N-",
        "outputId": "a4ca7341-9aec-48f5-b84d-3b65bf73bdf3"
      },
      "outputs": [
        {
          "name": "stdout",
          "output_type": "stream",
          "text": [
            "Average number of ratings for a given movie: 747.84\n",
            "Average rating for a given movie: 3.13\n"
          ]
        }
      ],
      "source": [
        "C = movie_stats['count'].mean()\n",
        "m = movie_stats['mean'].mean()\n",
        "\n",
        "print(f\"Average number of ratings for a given movie: {C:.2f}\")\n",
        "print(f\"Average rating for a given movie: {m:.2f}\")\n",
        "\n",
        "def bayesian_avg(ratings):\n",
        "    bayesian_avg = (C*m+ratings.sum())/(C+ratings.count())\n",
        "    return round(bayesian_avg, 3)"
      ]
    },
    {
      "cell_type": "markdown",
      "metadata": {
        "id": "Rh6IoRmG00N-"
      },
      "source": [
        "Let's test our `bayesian_avg` function out on `Lamerica`:"
      ]
    },
    {
      "cell_type": "code",
      "execution_count": 18,
      "metadata": {
        "colab": {
          "base_uri": "https://localhost:8080/"
        },
        "id": "IKer2nYL00N-",
        "outputId": "b58ce350-53e4-4a18-d69f-8842adac0762"
      },
      "outputs": [
        {
          "data": {
            "text/plain": [
              "3.136"
            ]
          },
          "execution_count": 18,
          "metadata": {},
          "output_type": "execute_result"
        }
      ],
      "source": [
        "lamerica = pd.Series([5])\n",
        "bayesian_avg(lamerica)"
      ]
    },
    {
      "cell_type": "markdown",
      "metadata": {
        "id": "vTQzHRPT00N-"
      },
      "source": [
        "`Lamerica`'s average Bayesian rating is 3.5.\n",
        "\n",
        "Let's now apply `bayesian_avg` to all movies in our dataset."
      ]
    },
    {
      "cell_type": "code",
      "execution_count": 19,
      "metadata": {
        "id": "jQF7ttiu00N_"
      },
      "outputs": [],
      "source": [
        "bayesian_avg_ratings = ratings.groupby('movieId')['rating'].agg(bayesian_avg).reset_index()\n",
        "bayesian_avg_ratings.columns = ['movieId', 'bayesian_avg']\n",
        "movie_stats = movie_stats.merge(bayesian_avg_ratings, on='movieId')"
      ]
    },
    {
      "cell_type": "code",
      "execution_count": 20,
      "metadata": {
        "colab": {
          "base_uri": "https://localhost:8080/",
          "height": 206
        },
        "id": "it5-tOqq4ydH",
        "outputId": "114016d9-b39f-4110-fe10-2bb42bfdee22"
      },
      "outputs": [
        {
          "data": {
            "text/html": [
              "<div>\n",
              "<style scoped>\n",
              "    .dataframe tbody tr th:only-of-type {\n",
              "        vertical-align: middle;\n",
              "    }\n",
              "\n",
              "    .dataframe tbody tr th {\n",
              "        vertical-align: top;\n",
              "    }\n",
              "\n",
              "    .dataframe thead th {\n",
              "        text-align: right;\n",
              "    }\n",
              "</style>\n",
              "<table border=\"1\" class=\"dataframe\">\n",
              "  <thead>\n",
              "    <tr style=\"text-align: right;\">\n",
              "      <th></th>\n",
              "      <th>movieId</th>\n",
              "      <th>count</th>\n",
              "      <th>mean</th>\n",
              "      <th>bayesian_avg</th>\n",
              "    </tr>\n",
              "  </thead>\n",
              "  <tbody>\n",
              "    <tr>\n",
              "      <th>0</th>\n",
              "      <td>1</td>\n",
              "      <td>49695</td>\n",
              "      <td>3.921240</td>\n",
              "      <td>3.910</td>\n",
              "    </tr>\n",
              "    <tr>\n",
              "      <th>1</th>\n",
              "      <td>2</td>\n",
              "      <td>22243</td>\n",
              "      <td>3.211977</td>\n",
              "      <td>3.209</td>\n",
              "    </tr>\n",
              "    <tr>\n",
              "      <th>2</th>\n",
              "      <td>3</td>\n",
              "      <td>12735</td>\n",
              "      <td>3.151040</td>\n",
              "      <td>3.150</td>\n",
              "    </tr>\n",
              "    <tr>\n",
              "      <th>3</th>\n",
              "      <td>4</td>\n",
              "      <td>2756</td>\n",
              "      <td>2.861393</td>\n",
              "      <td>2.919</td>\n",
              "    </tr>\n",
              "    <tr>\n",
              "      <th>4</th>\n",
              "      <td>5</td>\n",
              "      <td>12161</td>\n",
              "      <td>3.064592</td>\n",
              "      <td>3.069</td>\n",
              "    </tr>\n",
              "  </tbody>\n",
              "</table>\n",
              "</div>"
            ],
            "text/plain": [
              "   movieId  count      mean  bayesian_avg\n",
              "0        1  49695  3.921240         3.910\n",
              "1        2  22243  3.211977         3.209\n",
              "2        3  12735  3.151040         3.150\n",
              "3        4   2756  2.861393         2.919\n",
              "4        5  12161  3.064592         3.069"
            ]
          },
          "execution_count": 20,
          "metadata": {},
          "output_type": "execute_result"
        }
      ],
      "source": [
        "movie_stats.head()"
      ]
    },
    {
      "cell_type": "code",
      "execution_count": 21,
      "metadata": {
        "colab": {
          "base_uri": "https://localhost:8080/",
          "height": 424
        },
        "id": "cnaPrCv800N_",
        "outputId": "3fe17f5f-8550-4220-b3a0-3c63461fb439"
      },
      "outputs": [
        {
          "data": {
            "text/html": [
              "<div>\n",
              "<style scoped>\n",
              "    .dataframe tbody tr th:only-of-type {\n",
              "        vertical-align: middle;\n",
              "    }\n",
              "\n",
              "    .dataframe tbody tr th {\n",
              "        vertical-align: top;\n",
              "    }\n",
              "\n",
              "    .dataframe thead th {\n",
              "        text-align: right;\n",
              "    }\n",
              "</style>\n",
              "<table border=\"1\" class=\"dataframe\">\n",
              "  <thead>\n",
              "    <tr style=\"text-align: right;\">\n",
              "      <th></th>\n",
              "      <th>movieId</th>\n",
              "      <th>count</th>\n",
              "      <th>mean</th>\n",
              "      <th>bayesian_avg</th>\n",
              "      <th>title</th>\n",
              "    </tr>\n",
              "  </thead>\n",
              "  <tbody>\n",
              "    <tr>\n",
              "      <th>315</th>\n",
              "      <td>318</td>\n",
              "      <td>63366</td>\n",
              "      <td>4.446990</td>\n",
              "      <td>4.432</td>\n",
              "      <td>Shawshank Redemption, The (1994)</td>\n",
              "    </tr>\n",
              "    <tr>\n",
              "      <th>843</th>\n",
              "      <td>858</td>\n",
              "      <td>41355</td>\n",
              "      <td>4.364732</td>\n",
              "      <td>4.343</td>\n",
              "      <td>Godfather, The (1972)</td>\n",
              "    </tr>\n",
              "    <tr>\n",
              "      <th>49</th>\n",
              "      <td>50</td>\n",
              "      <td>47006</td>\n",
              "      <td>4.334372</td>\n",
              "      <td>4.316</td>\n",
              "      <td>Usual Suspects, The (1995)</td>\n",
              "    </tr>\n",
              "    <tr>\n",
              "      <th>523</th>\n",
              "      <td>527</td>\n",
              "      <td>50054</td>\n",
              "      <td>4.310175</td>\n",
              "      <td>4.293</td>\n",
              "      <td>Schindler's List (1993)</td>\n",
              "    </tr>\n",
              "    <tr>\n",
              "      <th>1195</th>\n",
              "      <td>1221</td>\n",
              "      <td>27398</td>\n",
              "      <td>4.275641</td>\n",
              "      <td>4.245</td>\n",
              "      <td>Godfather: Part II, The (1974)</td>\n",
              "    </tr>\n",
              "    <tr>\n",
              "      <th>...</th>\n",
              "      <td>...</td>\n",
              "      <td>...</td>\n",
              "      <td>...</td>\n",
              "      <td>...</td>\n",
              "      <td>...</td>\n",
              "    </tr>\n",
              "    <tr>\n",
              "      <th>2298</th>\n",
              "      <td>2383</td>\n",
              "      <td>2155</td>\n",
              "      <td>1.794896</td>\n",
              "      <td>2.140</td>\n",
              "      <td>Police Academy 6: City Under Siege (1989)</td>\n",
              "    </tr>\n",
              "    <tr>\n",
              "      <th>1648</th>\n",
              "      <td>1707</td>\n",
              "      <td>2697</td>\n",
              "      <td>1.819985</td>\n",
              "      <td>2.105</td>\n",
              "      <td>Home Alone 3 (1997)</td>\n",
              "    </tr>\n",
              "    <tr>\n",
              "      <th>1694</th>\n",
              "      <td>1760</td>\n",
              "      <td>2658</td>\n",
              "      <td>1.770316</td>\n",
              "      <td>2.070</td>\n",
              "      <td>Spice World (1997)</td>\n",
              "    </tr>\n",
              "    <tr>\n",
              "      <th>1506</th>\n",
              "      <td>1556</td>\n",
              "      <td>5326</td>\n",
              "      <td>1.912317</td>\n",
              "      <td>2.063</td>\n",
              "      <td>Speed 2: Cruise Control (1997)</td>\n",
              "    </tr>\n",
              "    <tr>\n",
              "      <th>3502</th>\n",
              "      <td>3593</td>\n",
              "      <td>3973</td>\n",
              "      <td>1.600554</td>\n",
              "      <td>1.843</td>\n",
              "      <td>Battlefield Earth (2000)</td>\n",
              "    </tr>\n",
              "  </tbody>\n",
              "</table>\n",
              "<p>26744 rows × 5 columns</p>\n",
              "</div>"
            ],
            "text/plain": [
              "      movieId  count      mean  bayesian_avg  \\\n",
              "315       318  63366  4.446990         4.432   \n",
              "843       858  41355  4.364732         4.343   \n",
              "49         50  47006  4.334372         4.316   \n",
              "523       527  50054  4.310175         4.293   \n",
              "1195     1221  27398  4.275641         4.245   \n",
              "...       ...    ...       ...           ...   \n",
              "2298     2383   2155  1.794896         2.140   \n",
              "1648     1707   2697  1.819985         2.105   \n",
              "1694     1760   2658  1.770316         2.070   \n",
              "1506     1556   5326  1.912317         2.063   \n",
              "3502     3593   3973  1.600554         1.843   \n",
              "\n",
              "                                          title  \n",
              "315            Shawshank Redemption, The (1994)  \n",
              "843                       Godfather, The (1972)  \n",
              "49                   Usual Suspects, The (1995)  \n",
              "523                     Schindler's List (1993)  \n",
              "1195             Godfather: Part II, The (1974)  \n",
              "...                                         ...  \n",
              "2298  Police Academy 6: City Under Siege (1989)  \n",
              "1648                        Home Alone 3 (1997)  \n",
              "1694                         Spice World (1997)  \n",
              "1506             Speed 2: Cruise Control (1997)  \n",
              "3502                   Battlefield Earth (2000)  \n",
              "\n",
              "[26744 rows x 5 columns]"
            ]
          },
          "execution_count": 21,
          "metadata": {},
          "output_type": "execute_result"
        }
      ],
      "source": [
        "movie_stats = movie_stats.merge(movies[['movieId', 'title']])\n",
        "movie_stats.sort_values(by='bayesian_avg',ascending=False)"
      ]
    },
    {
      "cell_type": "markdown",
      "metadata": {
        "id": "xF_psCUP00N_"
      },
      "source": [
        "Using the Bayesian average, we see that `Shawshank Redemption`, `The Godfather`, and `The Usual Suspects` are the most highly rated movies. This result makes much more sense since these movies are critically acclaimed films."
      ]
    },
    {
      "cell_type": "code",
      "execution_count": 22,
      "metadata": {
        "colab": {
          "base_uri": "https://localhost:8080/",
          "height": 206
        },
        "id": "6XSFQFAj00OA",
        "outputId": "dd7ed957-f057-4499-e756-90d22d78ccb6"
      },
      "outputs": [
        {
          "data": {
            "text/html": [
              "<div>\n",
              "<style scoped>\n",
              "    .dataframe tbody tr th:only-of-type {\n",
              "        vertical-align: middle;\n",
              "    }\n",
              "\n",
              "    .dataframe tbody tr th {\n",
              "        vertical-align: top;\n",
              "    }\n",
              "\n",
              "    .dataframe thead th {\n",
              "        text-align: right;\n",
              "    }\n",
              "</style>\n",
              "<table border=\"1\" class=\"dataframe\">\n",
              "  <thead>\n",
              "    <tr style=\"text-align: right;\">\n",
              "      <th></th>\n",
              "      <th>movieId</th>\n",
              "      <th>count</th>\n",
              "      <th>mean</th>\n",
              "      <th>bayesian_avg</th>\n",
              "      <th>title</th>\n",
              "    </tr>\n",
              "  </thead>\n",
              "  <tbody>\n",
              "    <tr>\n",
              "      <th>3502</th>\n",
              "      <td>3593</td>\n",
              "      <td>3973</td>\n",
              "      <td>1.600554</td>\n",
              "      <td>1.843</td>\n",
              "      <td>Battlefield Earth (2000)</td>\n",
              "    </tr>\n",
              "    <tr>\n",
              "      <th>1506</th>\n",
              "      <td>1556</td>\n",
              "      <td>5326</td>\n",
              "      <td>1.912317</td>\n",
              "      <td>2.063</td>\n",
              "      <td>Speed 2: Cruise Control (1997)</td>\n",
              "    </tr>\n",
              "    <tr>\n",
              "      <th>1694</th>\n",
              "      <td>1760</td>\n",
              "      <td>2658</td>\n",
              "      <td>1.770316</td>\n",
              "      <td>2.070</td>\n",
              "      <td>Spice World (1997)</td>\n",
              "    </tr>\n",
              "    <tr>\n",
              "      <th>1648</th>\n",
              "      <td>1707</td>\n",
              "      <td>2697</td>\n",
              "      <td>1.819985</td>\n",
              "      <td>2.105</td>\n",
              "      <td>Home Alone 3 (1997)</td>\n",
              "    </tr>\n",
              "    <tr>\n",
              "      <th>2298</th>\n",
              "      <td>2383</td>\n",
              "      <td>2155</td>\n",
              "      <td>1.794896</td>\n",
              "      <td>2.140</td>\n",
              "      <td>Police Academy 6: City Under Siege (1989)</td>\n",
              "    </tr>\n",
              "  </tbody>\n",
              "</table>\n",
              "</div>"
            ],
            "text/plain": [
              "      movieId  count      mean  bayesian_avg  \\\n",
              "3502     3593   3973  1.600554         1.843   \n",
              "1506     1556   5326  1.912317         2.063   \n",
              "1694     1760   2658  1.770316         2.070   \n",
              "1648     1707   2697  1.819985         2.105   \n",
              "2298     2383   2155  1.794896         2.140   \n",
              "\n",
              "                                          title  \n",
              "3502                   Battlefield Earth (2000)  \n",
              "1506             Speed 2: Cruise Control (1997)  \n",
              "1694                         Spice World (1997)  \n",
              "1648                        Home Alone 3 (1997)  \n",
              "2298  Police Academy 6: City Under Siege (1989)  "
            ]
          },
          "execution_count": 22,
          "metadata": {},
          "output_type": "execute_result"
        }
      ],
      "source": [
        "movie_stats.sort_values('bayesian_avg', ascending=True).head()"
      ]
    },
    {
      "cell_type": "markdown",
      "metadata": {
        "id": "_4j8B5sZ00OB"
      },
      "source": [
        "With Bayesian averaging, it looks like `Speed 2: Cruise Control`, `Battlefield Earth`, and `Godzilla` are the worst rated movies. `Gypsy` isn't so bad after all."
      ]
    },
    {
      "cell_type": "markdown",
      "metadata": {
        "id": "ZpJ4veOu00OC"
      },
      "source": [
        "### A Glimpse at Movie Genres\n",
        "\n",
        "The movies dataset needs to be cleaned in two ways:\n",
        "\n",
        "- `genres` is expressed as a string with a pipe `|` separating each genre. We will manipulate this string into a list, which will make it much easier to analyze.\n",
        "- `title` currently has (year) appended at the end. We will extract year from each title string and create a new column for it."
      ]
    },
    {
      "cell_type": "code",
      "execution_count": 23,
      "metadata": {
        "colab": {
          "base_uri": "https://localhost:8080/",
          "height": 206
        },
        "id": "wJPBV_LS5dox",
        "outputId": "65b29405-28a8-4d06-d545-90967c8b8b2f"
      },
      "outputs": [
        {
          "data": {
            "text/html": [
              "<div>\n",
              "<style scoped>\n",
              "    .dataframe tbody tr th:only-of-type {\n",
              "        vertical-align: middle;\n",
              "    }\n",
              "\n",
              "    .dataframe tbody tr th {\n",
              "        vertical-align: top;\n",
              "    }\n",
              "\n",
              "    .dataframe thead th {\n",
              "        text-align: right;\n",
              "    }\n",
              "</style>\n",
              "<table border=\"1\" class=\"dataframe\">\n",
              "  <thead>\n",
              "    <tr style=\"text-align: right;\">\n",
              "      <th></th>\n",
              "      <th>movieId</th>\n",
              "      <th>title</th>\n",
              "      <th>genres</th>\n",
              "    </tr>\n",
              "  </thead>\n",
              "  <tbody>\n",
              "    <tr>\n",
              "      <th>0</th>\n",
              "      <td>1</td>\n",
              "      <td>Toy Story (1995)</td>\n",
              "      <td>Adventure|Animation|Children|Comedy|Fantasy</td>\n",
              "    </tr>\n",
              "    <tr>\n",
              "      <th>1</th>\n",
              "      <td>2</td>\n",
              "      <td>Jumanji (1995)</td>\n",
              "      <td>Adventure|Children|Fantasy</td>\n",
              "    </tr>\n",
              "    <tr>\n",
              "      <th>2</th>\n",
              "      <td>3</td>\n",
              "      <td>Grumpier Old Men (1995)</td>\n",
              "      <td>Comedy|Romance</td>\n",
              "    </tr>\n",
              "    <tr>\n",
              "      <th>3</th>\n",
              "      <td>4</td>\n",
              "      <td>Waiting to Exhale (1995)</td>\n",
              "      <td>Comedy|Drama|Romance</td>\n",
              "    </tr>\n",
              "    <tr>\n",
              "      <th>4</th>\n",
              "      <td>5</td>\n",
              "      <td>Father of the Bride Part II (1995)</td>\n",
              "      <td>Comedy</td>\n",
              "    </tr>\n",
              "  </tbody>\n",
              "</table>\n",
              "</div>"
            ],
            "text/plain": [
              "   movieId                               title  \\\n",
              "0        1                    Toy Story (1995)   \n",
              "1        2                      Jumanji (1995)   \n",
              "2        3             Grumpier Old Men (1995)   \n",
              "3        4            Waiting to Exhale (1995)   \n",
              "4        5  Father of the Bride Part II (1995)   \n",
              "\n",
              "                                        genres  \n",
              "0  Adventure|Animation|Children|Comedy|Fantasy  \n",
              "1                   Adventure|Children|Fantasy  \n",
              "2                               Comedy|Romance  \n",
              "3                         Comedy|Drama|Romance  \n",
              "4                                       Comedy  "
            ]
          },
          "execution_count": 23,
          "metadata": {},
          "output_type": "execute_result"
        }
      ],
      "source": [
        "movies.head()"
      ]
    },
    {
      "cell_type": "code",
      "execution_count": 24,
      "metadata": {
        "colab": {
          "base_uri": "https://localhost:8080/",
          "height": 206
        },
        "id": "b567RnZ_00OC",
        "outputId": "2ce9d5b2-f979-491a-8b18-ac3dfb050a13"
      },
      "outputs": [
        {
          "data": {
            "text/html": [
              "<div>\n",
              "<style scoped>\n",
              "    .dataframe tbody tr th:only-of-type {\n",
              "        vertical-align: middle;\n",
              "    }\n",
              "\n",
              "    .dataframe tbody tr th {\n",
              "        vertical-align: top;\n",
              "    }\n",
              "\n",
              "    .dataframe thead th {\n",
              "        text-align: right;\n",
              "    }\n",
              "</style>\n",
              "<table border=\"1\" class=\"dataframe\">\n",
              "  <thead>\n",
              "    <tr style=\"text-align: right;\">\n",
              "      <th></th>\n",
              "      <th>movieId</th>\n",
              "      <th>title</th>\n",
              "      <th>genres</th>\n",
              "    </tr>\n",
              "  </thead>\n",
              "  <tbody>\n",
              "    <tr>\n",
              "      <th>0</th>\n",
              "      <td>1</td>\n",
              "      <td>Toy Story (1995)</td>\n",
              "      <td>[Adventure, Animation, Children, Comedy, Fantasy]</td>\n",
              "    </tr>\n",
              "    <tr>\n",
              "      <th>1</th>\n",
              "      <td>2</td>\n",
              "      <td>Jumanji (1995)</td>\n",
              "      <td>[Adventure, Children, Fantasy]</td>\n",
              "    </tr>\n",
              "    <tr>\n",
              "      <th>2</th>\n",
              "      <td>3</td>\n",
              "      <td>Grumpier Old Men (1995)</td>\n",
              "      <td>[Comedy, Romance]</td>\n",
              "    </tr>\n",
              "    <tr>\n",
              "      <th>3</th>\n",
              "      <td>4</td>\n",
              "      <td>Waiting to Exhale (1995)</td>\n",
              "      <td>[Comedy, Drama, Romance]</td>\n",
              "    </tr>\n",
              "    <tr>\n",
              "      <th>4</th>\n",
              "      <td>5</td>\n",
              "      <td>Father of the Bride Part II (1995)</td>\n",
              "      <td>[Comedy]</td>\n",
              "    </tr>\n",
              "  </tbody>\n",
              "</table>\n",
              "</div>"
            ],
            "text/plain": [
              "   movieId                               title  \\\n",
              "0        1                    Toy Story (1995)   \n",
              "1        2                      Jumanji (1995)   \n",
              "2        3             Grumpier Old Men (1995)   \n",
              "3        4            Waiting to Exhale (1995)   \n",
              "4        5  Father of the Bride Part II (1995)   \n",
              "\n",
              "                                              genres  \n",
              "0  [Adventure, Animation, Children, Comedy, Fantasy]  \n",
              "1                     [Adventure, Children, Fantasy]  \n",
              "2                                  [Comedy, Romance]  \n",
              "3                           [Comedy, Drama, Romance]  \n",
              "4                                           [Comedy]  "
            ]
          },
          "execution_count": 24,
          "metadata": {},
          "output_type": "execute_result"
        }
      ],
      "source": [
        "movies['genres'] = movies['genres'].apply(lambda x:x.split('|'))\n",
        "movies.head()"
      ]
    },
    {
      "cell_type": "markdown",
      "metadata": {
        "id": "mZr6pVKV00OD"
      },
      "source": [
        "**How many movie genres are there?**"
      ]
    },
    {
      "cell_type": "code",
      "execution_count": 25,
      "metadata": {
        "colab": {
          "base_uri": "https://localhost:8080/"
        },
        "id": "VQXWRZuj00OD",
        "outputId": "037a770f-f4bd-43aa-9926-2275e19edc1a"
      },
      "outputs": [
        {
          "name": "stdout",
          "output_type": "stream",
          "text": [
            "There are 20 genres.\n"
          ]
        },
        {
          "data": {
            "text/plain": [
              "Counter({'Adventure': 2329,\n",
              "         'Animation': 1027,\n",
              "         'Children': 1139,\n",
              "         'Comedy': 8374,\n",
              "         'Fantasy': 1412,\n",
              "         'Romance': 4127,\n",
              "         'Drama': 13344,\n",
              "         'Action': 3520,\n",
              "         'Crime': 2939,\n",
              "         'Thriller': 4178,\n",
              "         'Horror': 2611,\n",
              "         'Mystery': 1514,\n",
              "         'Sci-Fi': 1743,\n",
              "         'IMAX': 196,\n",
              "         'Documentary': 2471,\n",
              "         'War': 1194,\n",
              "         'Musical': 1036,\n",
              "         'Western': 676,\n",
              "         'Film-Noir': 330,\n",
              "         '(no genres listed)': 246})"
            ]
          },
          "execution_count": 25,
          "metadata": {},
          "output_type": "execute_result"
        }
      ],
      "source": [
        "from collections import Counter\n",
        "\n",
        "genre_frequency = Counter(g for G in movies['genres'] for g in G )\n",
        "\n",
        "print(f\"There are {len(genre_frequency)} genres.\")\n",
        "\n",
        "genre_frequency"
      ]
    },
    {
      "cell_type": "code",
      "execution_count": 26,
      "metadata": {
        "colab": {
          "base_uri": "https://localhost:8080/"
        },
        "id": "lcU0n_mj00OE",
        "outputId": "5a586744-7670-44db-b433-96f622a47b7d"
      },
      "outputs": [
        {
          "name": "stdout",
          "output_type": "stream",
          "text": [
            "The 5 most common genres: \n",
            " [('Drama', 13344), ('Comedy', 8374), ('Thriller', 4178), ('Romance', 4127), ('Action', 3520)]\n"
          ]
        }
      ],
      "source": [
        "print(\"The 5 most common genres: \\n\", genre_frequency.most_common(5))"
      ]
    },
    {
      "cell_type": "markdown",
      "metadata": {
        "id": "WoScHaaM00OJ"
      },
      "source": [
        "The top 5 genres are: `Drama`, `Comedy`, `Thriller`, `Action` and `Romance`.\n",
        "\n",
        "Let's also visualize genres popularity with a barplot."
      ]
    },
    {
      "cell_type": "code",
      "execution_count": 27,
      "metadata": {
        "colab": {
          "base_uri": "https://localhost:8080/",
          "height": 677
        },
        "id": "qXuoAomT00OJ",
        "outputId": "05da4390-31b4-4337-b5b0-2fe502e06f61"
      },
      "outputs": [
        {
          "data": {
            "text/html": [
              "<div>\n",
              "<style scoped>\n",
              "    .dataframe tbody tr th:only-of-type {\n",
              "        vertical-align: middle;\n",
              "    }\n",
              "\n",
              "    .dataframe tbody tr th {\n",
              "        vertical-align: top;\n",
              "    }\n",
              "\n",
              "    .dataframe thead th {\n",
              "        text-align: right;\n",
              "    }\n",
              "</style>\n",
              "<table border=\"1\" class=\"dataframe\">\n",
              "  <thead>\n",
              "    <tr style=\"text-align: right;\">\n",
              "      <th></th>\n",
              "      <th>genre</th>\n",
              "      <th>count</th>\n",
              "    </tr>\n",
              "  </thead>\n",
              "  <tbody>\n",
              "    <tr>\n",
              "      <th>0</th>\n",
              "      <td>Adventure</td>\n",
              "      <td>2329</td>\n",
              "    </tr>\n",
              "    <tr>\n",
              "      <th>1</th>\n",
              "      <td>Animation</td>\n",
              "      <td>1027</td>\n",
              "    </tr>\n",
              "    <tr>\n",
              "      <th>2</th>\n",
              "      <td>Children</td>\n",
              "      <td>1139</td>\n",
              "    </tr>\n",
              "    <tr>\n",
              "      <th>3</th>\n",
              "      <td>Comedy</td>\n",
              "      <td>8374</td>\n",
              "    </tr>\n",
              "    <tr>\n",
              "      <th>4</th>\n",
              "      <td>Fantasy</td>\n",
              "      <td>1412</td>\n",
              "    </tr>\n",
              "    <tr>\n",
              "      <th>5</th>\n",
              "      <td>Romance</td>\n",
              "      <td>4127</td>\n",
              "    </tr>\n",
              "    <tr>\n",
              "      <th>6</th>\n",
              "      <td>Drama</td>\n",
              "      <td>13344</td>\n",
              "    </tr>\n",
              "    <tr>\n",
              "      <th>7</th>\n",
              "      <td>Action</td>\n",
              "      <td>3520</td>\n",
              "    </tr>\n",
              "    <tr>\n",
              "      <th>8</th>\n",
              "      <td>Crime</td>\n",
              "      <td>2939</td>\n",
              "    </tr>\n",
              "    <tr>\n",
              "      <th>9</th>\n",
              "      <td>Thriller</td>\n",
              "      <td>4178</td>\n",
              "    </tr>\n",
              "    <tr>\n",
              "      <th>10</th>\n",
              "      <td>Horror</td>\n",
              "      <td>2611</td>\n",
              "    </tr>\n",
              "    <tr>\n",
              "      <th>11</th>\n",
              "      <td>Mystery</td>\n",
              "      <td>1514</td>\n",
              "    </tr>\n",
              "    <tr>\n",
              "      <th>12</th>\n",
              "      <td>Sci-Fi</td>\n",
              "      <td>1743</td>\n",
              "    </tr>\n",
              "    <tr>\n",
              "      <th>13</th>\n",
              "      <td>IMAX</td>\n",
              "      <td>196</td>\n",
              "    </tr>\n",
              "    <tr>\n",
              "      <th>14</th>\n",
              "      <td>Documentary</td>\n",
              "      <td>2471</td>\n",
              "    </tr>\n",
              "    <tr>\n",
              "      <th>15</th>\n",
              "      <td>War</td>\n",
              "      <td>1194</td>\n",
              "    </tr>\n",
              "    <tr>\n",
              "      <th>16</th>\n",
              "      <td>Musical</td>\n",
              "      <td>1036</td>\n",
              "    </tr>\n",
              "    <tr>\n",
              "      <th>17</th>\n",
              "      <td>Western</td>\n",
              "      <td>676</td>\n",
              "    </tr>\n",
              "    <tr>\n",
              "      <th>18</th>\n",
              "      <td>Film-Noir</td>\n",
              "      <td>330</td>\n",
              "    </tr>\n",
              "    <tr>\n",
              "      <th>19</th>\n",
              "      <td>(no genres listed)</td>\n",
              "      <td>246</td>\n",
              "    </tr>\n",
              "  </tbody>\n",
              "</table>\n",
              "</div>"
            ],
            "text/plain": [
              "                 genre  count\n",
              "0            Adventure   2329\n",
              "1            Animation   1027\n",
              "2             Children   1139\n",
              "3               Comedy   8374\n",
              "4              Fantasy   1412\n",
              "5              Romance   4127\n",
              "6                Drama  13344\n",
              "7               Action   3520\n",
              "8                Crime   2939\n",
              "9             Thriller   4178\n",
              "10              Horror   2611\n",
              "11             Mystery   1514\n",
              "12              Sci-Fi   1743\n",
              "13                IMAX    196\n",
              "14         Documentary   2471\n",
              "15                 War   1194\n",
              "16             Musical   1036\n",
              "17             Western    676\n",
              "18           Film-Noir    330\n",
              "19  (no genres listed)    246"
            ]
          },
          "execution_count": 27,
          "metadata": {},
          "output_type": "execute_result"
        }
      ],
      "source": [
        "genre_frequency_df = pd.DataFrame([genre_frequency]).T.reset_index()\n",
        "genre_frequency_df.columns = ['genre', 'count']\n",
        "genre_frequency_df"
      ]
    },
    {
      "cell_type": "code",
      "execution_count": 28,
      "metadata": {
        "colab": {
          "base_uri": "https://localhost:8080/",
          "height": 1000
        },
        "id": "OjJHRuMF7mT2",
        "outputId": "9b10cb72-2ee5-4bfe-8804-a365747e1ff5"
      },
      "outputs": [
        {
          "name": "stderr",
          "output_type": "stream",
          "text": [
            "C:\\Users\\akash\\AppData\\Local\\Temp\\ipykernel_12960\\2835692610.py:1: FutureWarning: \n",
            "\n",
            "Passing `palette` without assigning `hue` is deprecated and will be removed in v0.14.0. Assign the `x` variable to `hue` and set `legend=False` for the same effect.\n",
            "\n",
            "  sns.barplot(x='genre', y='count', data=genre_frequency_df.sort_values(by='count'),palette='viridis')\n"
          ]
        },
        {
          "data": {
            "text/plain": [
              "([0, 1, 2, 3, 4, 5, 6, 7, 8, 9, 10, 11, 12, 13, 14, 15, 16, 17, 18, 19],\n",
              " [Text(0, 0, 'IMAX'),\n",
              "  Text(1, 0, '(no genres listed)'),\n",
              "  Text(2, 0, 'Film-Noir'),\n",
              "  Text(3, 0, 'Western'),\n",
              "  Text(4, 0, 'Animation'),\n",
              "  Text(5, 0, 'Musical'),\n",
              "  Text(6, 0, 'Children'),\n",
              "  Text(7, 0, 'War'),\n",
              "  Text(8, 0, 'Fantasy'),\n",
              "  Text(9, 0, 'Mystery'),\n",
              "  Text(10, 0, 'Sci-Fi'),\n",
              "  Text(11, 0, 'Adventure'),\n",
              "  Text(12, 0, 'Documentary'),\n",
              "  Text(13, 0, 'Horror'),\n",
              "  Text(14, 0, 'Crime'),\n",
              "  Text(15, 0, 'Action'),\n",
              "  Text(16, 0, 'Romance'),\n",
              "  Text(17, 0, 'Thriller'),\n",
              "  Text(18, 0, 'Comedy'),\n",
              "  Text(19, 0, 'Drama')])"
            ]
          },
          "execution_count": 28,
          "metadata": {},
          "output_type": "execute_result"
        },
        {
          "data": {
            "image/png": "[encoded data removed]",
            "text/plain": [
              "<Figure size 640x480 with 1 Axes>"
            ]
          },
          "metadata": {},
          "output_type": "display_data"
        }
      ],
      "source": [
        "sns.barplot(x='genre', y='count', data=genre_frequency_df.sort_values(by='count'),palette='viridis')\n",
        "plt.xticks(rotation=90)"
      ]
    },
    {
      "cell_type": "markdown",
      "metadata": {
        "id": "y8LfjxAR00OK"
      },
      "source": [
        "### Step 4: Data Pre-processing\n",
        "\n",
        "We are going to use a technique called colaborative filtering to generate recommendations for users. This technique is based on the premise that similar people like similar things.\n",
        "\n",
        "The first step is to transform our data into a user-item matrix, also known as a \"utility\" matrix. In this matrix, rows represent users and columns represent movies. The beauty of collaborative filtering is that it doesn't require any information about the users or the movies user to generate recommendations.\n",
        "\n",
        "<img src=\"https://github.com/topspinj/tmls-2020-recommender-workshop/blob/master/images/user_movie_matrix.png?raw=1\" width=50%/>"
      ]
    },
    {
      "cell_type": "markdown",
      "metadata": {
        "id": "JFJGlqvT00OK"
      },
      "source": [
        "The `create_X()` function outputs a sparse matrix $X$ with four mapper dictionaries:\n",
        "\n",
        "- **user_mapper**: maps user id to user index\n",
        "- **movie_mapper**: maps movie id to movie index\n",
        "- **user_inv_mapper**: maps user index to user id\n",
        "- **movie_inv_mapper**: maps movie index to movie id\n",
        "\n",
        "We need these dictionaries because they map which row/column of the utility matrix corresponds to which user/movie id.\n",
        "\n",
        "Our $X$ (user-item) matrix is a [scipy.sparse.csr_matrix](https://docs.scipy.org/doc/scipy-0.14.0/reference/generated/scipy.sparse.csr_matrix.html) which stores the data sparsely."
      ]
    },
    {
      "cell_type": "code",
      "execution_count": 29,
      "metadata": {},
      "outputs": [
        {
          "name": "stdout",
          "output_type": "stream",
          "text": [
            "Requirement already satisfied: scipy in c:\\users\\akash\\appdata\\local\\programs\\python\\python38\\lib\\site-packages (1.10.1)\n",
            "Requirement already satisfied: numpy<1.27.0,>=1.19.5 in c:\\users\\akash\\appdata\\local\\programs\\python\\python38\\lib\\site-packages (from scipy) (1.23.5)\n"
          ]
        }
      ],
      "source": [
        "!pip install scipy\n"
      ]
    },
    {
      "cell_type": "code",
      "execution_count": 30,
      "metadata": {
        "id": "ialOgQyz00OK"
      },
      "outputs": [],
      "source": [
        "from scipy.sparse import csr_matrix\n",
        "\n",
        "def create_X(df):\n",
        "    \"\"\"\n",
        "    Generates a sparse matrix from ratings dataframe.\n",
        "\n",
        "    Args:\n",
        "        df: pandas dataframe containing 3 columns (userId, movieId, rating)\n",
        "\n",
        "    Returns:\n",
        "        X: sparse matrix\n",
        "        user_mapper: dict that maps user id's to user indices\n",
        "        user_inv_mapper: dict that maps user indices to user id's\n",
        "        movie_mapper: dict that maps movie id's to movie indices\n",
        "        movie_inv_mapper: dict that maps movie indices to movie id's\n",
        "    \"\"\"\n",
        "    M = df['userId'].nunique()\n",
        "    N = df['movieId'].nunique()\n",
        "\n",
        "    user_mapper = dict(zip(np.unique(df[\"userId\"]), list(range(M))))\n",
        "    movie_mapper = dict(zip(np.unique(df[\"movieId\"]), list(range(N))))\n",
        "\n",
        "    user_inv_mapper = dict(zip(list(range(M)), np.unique(df[\"userId\"])))\n",
        "    movie_inv_mapper = dict(zip(list(range(N)), np.unique(df[\"movieId\"])))\n",
        "\n",
        "    user_index = [user_mapper[i] for i in df['userId']]\n",
        "    item_index = [movie_mapper[i] for i in df['movieId']]\n",
        "\n",
        "    X = csr_matrix((df[\"rating\"], (user_index,item_index)), shape=(M,N))\n",
        "\n",
        "    return X, user_mapper, movie_mapper, user_inv_mapper, movie_inv_mapper\n",
        "\n",
        "X, user_mapper, movie_mapper, user_inv_mapper, movie_inv_mapper = create_X(ratings)"
      ]
    },
    {
      "cell_type": "code",
      "execution_count": 31,
      "metadata": {
        "colab": {
          "base_uri": "https://localhost:8080/"
        },
        "id": "p5NFCmMN00OL",
        "outputId": "0b5a69c7-108a-425b-d729-b09b899dd853"
      },
      "outputs": [
        {
          "data": {
            "text/plain": [
              "(138493, 26744)"
            ]
          },
          "execution_count": 31,
          "metadata": {},
          "output_type": "execute_result"
        }
      ],
      "source": [
        "X.shape"
      ]
    },
    {
      "cell_type": "markdown",
      "metadata": {
        "id": "SxRI24PE00OL"
      },
      "source": [
        "Our `X` matrix contains 610 users and 9724 movies."
      ]
    },
    {
      "cell_type": "markdown",
      "metadata": {
        "id": "GLM5wwsC00OM"
      },
      "source": [
        "### Evaluating sparsity\n",
        "\n",
        "Here, we calculate sparsity by dividing the number of stored elements by total number of elements. The number of stored (non-empty) elements in our matrix ([nnz](https://docs.scipy.org/doc/scipy/reference/generated/scipy.sparse.csr_matrix.nnz.html)) is equivalent to the number of ratings in our dataset."
      ]
    },
    {
      "cell_type": "code",
      "execution_count": 32,
      "metadata": {
        "colab": {
          "base_uri": "https://localhost:8080/"
        },
        "id": "QgvnWuh300OM",
        "outputId": "3c7a4f6c-3e01-47d7-886e-6c290dcf6efd"
      },
      "outputs": [
        {
          "name": "stdout",
          "output_type": "stream",
          "text": [
            "Matrix sparsity: 0.54%\n"
          ]
        }
      ],
      "source": [
        "n_total = X.shape[0]*X.shape[1]\n",
        "n_ratings = X.nnz\n",
        "sparsity = n_ratings/n_total\n",
        "print(f\"Matrix sparsity: {round(sparsity*100,2)}%\")"
      ]
    },
    {
      "cell_type": "markdown",
      "metadata": {
        "id": "HIS6FZV_00ON"
      },
      "source": [
        "`csr_matrix.nnz` counts the stored values in our sparse matrix. The rest of our cells are empty.\n",
        "\n",
        "The **cold start problem** is when there are new users and movies in our matrix that do not have any ratings. In our Movielens dataset, all users and movies have at least one rating but in general, it's useful to check which users and movies have few interactions."
      ]
    },
    {
      "cell_type": "code",
      "execution_count": 33,
      "metadata": {
        "colab": {
          "base_uri": "https://localhost:8080/"
        },
        "id": "GAYbHnKi00OO",
        "outputId": "eb95dd0f-9210-4db1-f13b-bcfad9975ff8"
      },
      "outputs": [
        {
          "data": {
            "text/plain": [
              "138493"
            ]
          },
          "execution_count": 33,
          "metadata": {},
          "output_type": "execute_result"
        }
      ],
      "source": [
        "n_ratings_per_user = X.getnnz(axis=1)\n",
        "len(n_ratings_per_user)"
      ]
    },
    {
      "cell_type": "code",
      "execution_count": 34,
      "metadata": {
        "colab": {
          "base_uri": "https://localhost:8080/"
        },
        "id": "MGIalKeE00OP",
        "outputId": "8c15bb6d-aaba-4769-a29f-25e034603198"
      },
      "outputs": [
        {
          "name": "stdout",
          "output_type": "stream",
          "text": [
            "Most active user rated 9254 movies.\n",
            "Least active user rated 20 movies.\n"
          ]
        }
      ],
      "source": [
        "print(f\"Most active user rated {n_ratings_per_user.max()} movies.\")\n",
        "print(f\"Least active user rated {n_ratings_per_user.min()} movies.\")"
      ]
    },
    {
      "cell_type": "code",
      "execution_count": 35,
      "metadata": {
        "colab": {
          "base_uri": "https://localhost:8080/"
        },
        "id": "Dwu3O6kC00OQ",
        "outputId": "85ae8963-71ed-40a7-dc00-6f1417f0d312"
      },
      "outputs": [
        {
          "data": {
            "text/plain": [
              "26744"
            ]
          },
          "execution_count": 35,
          "metadata": {},
          "output_type": "execute_result"
        }
      ],
      "source": [
        "n_ratings_per_movie = X.getnnz(axis=0)\n",
        "len(n_ratings_per_movie)"
      ]
    },
    {
      "cell_type": "code",
      "execution_count": 36,
      "metadata": {
        "colab": {
          "base_uri": "https://localhost:8080/"
        },
        "id": "r3IPEBFG00OQ",
        "outputId": "4151c3a4-97b6-422b-c32e-75c909b83ccd"
      },
      "outputs": [
        {
          "name": "stdout",
          "output_type": "stream",
          "text": [
            "Most rated movie has 67310 ratings.\n",
            "Least rated movie has 1 ratings.\n"
          ]
        }
      ],
      "source": [
        "print(f\"Most rated movie has {n_ratings_per_movie.max()} ratings.\")\n",
        "print(f\"Least rated movie has {n_ratings_per_movie.min()} ratings.\")"
      ]
    },
    {
      "cell_type": "code",
      "execution_count": 37,
      "metadata": {
        "colab": {
          "base_uri": "https://localhost:8080/",
          "height": 553
        },
        "id": "0Dv0MwhS00OR",
        "outputId": "60b7262b-2f32-4c10-9dcc-70c1429c19de"
      },
      "outputs": [
        {
          "name": "stderr",
          "output_type": "stream",
          "text": [
            "C:\\Users\\akash\\AppData\\Local\\Temp\\ipykernel_12960\\3364525973.py:3: FutureWarning: \n",
            "\n",
            "`shade` is now deprecated in favor of `fill`; setting `fill=True`.\n",
            "This will become an error in seaborn v0.14.0; please update your code.\n",
            "\n",
            "  sns.kdeplot(n_ratings_per_user, shade=True)\n",
            "C:\\Users\\akash\\AppData\\Local\\Temp\\ipykernel_12960\\3364525973.py:9: FutureWarning: \n",
            "\n",
            "`shade` is now deprecated in favor of `fill`; setting `fill=True`.\n",
            "This will become an error in seaborn v0.14.0; please update your code.\n",
            "\n",
            "  sns.kdeplot(n_ratings_per_movie, shade=True)\n"
          ]
        },
        {
          "data": {
            "image/png": "[encoded data removed]",
            "text/plain": [
              "<Figure size 1600x400 with 2 Axes>"
            ]
          },
          "metadata": {},
          "output_type": "display_data"
        }
      ],
      "source": [
        "plt.figure(figsize=(16,4))\n",
        "plt.subplot(1,2,1)\n",
        "sns.kdeplot(n_ratings_per_user, shade=True)\n",
        "plt.xlim(0)\n",
        "plt.title(\"Number of Ratings Per User\", fontsize=14)\n",
        "plt.xlabel(\"number of ratings per user\")\n",
        "plt.ylabel(\"density\")\n",
        "plt.subplot(1,2,2)\n",
        "sns.kdeplot(n_ratings_per_movie, shade=True)\n",
        "plt.xlim(0)\n",
        "plt.title(\"Number of Ratings Per Movie\", fontsize=14)\n",
        "plt.xlabel(\"number of ratings per movie\")\n",
        "plt.ylabel(\"density\")\n",
        "plt.show()"
      ]
    },
    {
      "cell_type": "markdown",
      "metadata": {
        "id": "YmEIalqZ00OR"
      },
      "source": [
        "### Step 5: Item-item Recommendations with k-Nearest Neighbors"
      ]
    },
    {
      "cell_type": "markdown",
      "metadata": {
        "id": "k9hmXmxS00OS"
      },
      "source": [
        "We are going to find the $k$ movies that have the most similar user engagement vectors for movie $i$."
      ]
    },
    {
      "cell_type": "code",
      "execution_count": 38,
      "metadata": {},
      "outputs": [
        {
          "name": "stdout",
          "output_type": "stream",
          "text": [
            "Requirement already satisfied: scikit-learn in c:\\users\\akash\\appdata\\local\\programs\\python\\python38\\lib\\site-packages (1.3.2)\n",
            "Requirement already satisfied: fuzzywuzzy in c:\\users\\akash\\appdata\\local\\programs\\python\\python38\\lib\\site-packages (0.18.0)\n",
            "Requirement already satisfied: numpy<2.0,>=1.17.3 in c:\\users\\akash\\appdata\\local\\programs\\python\\python38\\lib\\site-packages (from scikit-learn) (1.23.5)\n",
            "Requirement already satisfied: scipy>=1.5.0 in c:\\users\\akash\\appdata\\local\\programs\\python\\python38\\lib\\site-packages (from scikit-learn) (1.10.1)\n",
            "Requirement already satisfied: joblib>=1.1.1 in c:\\users\\akash\\appdata\\local\\programs\\python\\python38\\lib\\site-packages (from scikit-learn) (1.2.0)\n",
            "Requirement already satisfied: threadpoolctl>=2.0.0 in c:\\users\\akash\\appdata\\local\\programs\\python\\python38\\lib\\site-packages (from scikit-learn) (3.5.0)\n"
          ]
        }
      ],
      "source": [
        "!pip install scikit-learn fuzzywuzzy"
      ]
    },
    {
      "cell_type": "code",
      "execution_count": 39,
      "metadata": {
        "id": "bUxUYdEd00OS"
      },
      "outputs": [],
      "source": [
        "from sklearn.neighbors import NearestNeighbors\n",
        "\n",
        "def find_similar_movies(movie_id, X, movie_mapper, movie_inv_mapper, k, metric='cosine'):\n",
        "    \"\"\"\n",
        "    Finds k-nearest neighbours for a given movie id.\n",
        "\n",
        "    Args:\n",
        "        movie_id: id of the movie of interest\n",
        "        X: user-item utility matrix\n",
        "        k: number of similar movies to retrieve\n",
        "        metric: distance metric for kNN calculations\n",
        "\n",
        "    Output: returns list of k similar movie ID's\n",
        "    \"\"\"\n",
        "    X = X.T\n",
        "    neighbour_ids = []\n",
        "\n",
        "    movie_ind = movie_mapper[movie_id]\n",
        "    movie_vec = X[movie_ind]\n",
        "    if isinstance(movie_vec, (np.ndarray)):\n",
        "        movie_vec = movie_vec.reshape(1,-1)\n",
        "    # use k+1 since kNN output includes the movieId of interest\n",
        "    kNN = NearestNeighbors(n_neighbors=k+1, algorithm=\"brute\", metric=metric)\n",
        "    kNN.fit(X)\n",
        "    neighbour = kNN.kneighbors(movie_vec, return_distance=False)\n",
        "    for i in range(0,k):\n",
        "        n = neighbour.item(i)\n",
        "        neighbour_ids.append(movie_inv_mapper[n])\n",
        "    neighbour_ids.pop(0)\n",
        "    return neighbour_ids"
      ]
    },
    {
      "cell_type": "markdown",
      "metadata": {
        "id": "VT8mN5DD00OS"
      },
      "source": [
        "`find_similar_movies()` takes in a `movieId` and `X` matrix, and outputs a list of $k$ movies that are similar to the `movieId` of interest.\n",
        "\n",
        "Let's see how it works in action. We will first create another mapper that maps movieId to title so that our results are interpretable."
      ]
    },
    {
      "cell_type": "code",
      "execution_count": 40,
      "metadata": {
        "colab": {
          "base_uri": "https://localhost:8080/"
        },
        "id": "MlgeBbzx00OT",
        "outputId": "98568fd9-4583-48f2-ddb3-0f7e2ab67fb6"
      },
      "outputs": [
        {
          "data": {
            "text/plain": [
              "[260, 780, 1210, 3114, 1270, 356, 588, 648, 480]"
            ]
          },
          "execution_count": 40,
          "metadata": {},
          "output_type": "execute_result"
        }
      ],
      "source": [
        "similar_movies = find_similar_movies(1, X, movie_mapper, movie_inv_mapper, k=10)\n",
        "similar_movies"
      ]
    },
    {
      "cell_type": "markdown",
      "metadata": {
        "id": "PEVR23vu00OT"
      },
      "source": [
        "`find_similar_movies()` returns a list of `movieId`'s that are most similar to your movie of interest. Let's convert these id's to titles so that we can interpret our results. To make things easier, we will create a dictionary that maps `movieId` to `title`."
      ]
    },
    {
      "cell_type": "code",
      "execution_count": 41,
      "metadata": {
        "colab": {
          "base_uri": "https://localhost:8080/"
        },
        "id": "eplAAsUi00OU",
        "outputId": "bb695673-322b-48d4-fa60-b0b36d80d904"
      },
      "outputs": [
        {
          "name": "stdout",
          "output_type": "stream",
          "text": [
            "Because you watched Dracula: Dead and Loving It (1995):\n",
            "Spy Hard (1996)\n",
            "Sgt. Bilko (1996)\n",
            "Bio-Dome (1996)\n",
            "Down Periscope (1996)\n",
            "Nutty Professor, The (1996)\n",
            "Lawnmower Man 2: Beyond Cyberspace (1996)\n",
            "Craft, The (1996)\n",
            "Phantom, The (1996)\n",
            "Eraser (1996)\n"
          ]
        }
      ],
      "source": [
        "movie_titles = dict(zip(movies['movieId'], movies['title']))\n",
        "\n",
        "movie_id = 12\n",
        "\n",
        "similar_movies = find_similar_movies(movie_id, X, movie_mapper, movie_inv_mapper, metric='cosine', k=10)\n",
        "movie_title = movie_titles[movie_id]\n",
        "\n",
        "print(f\"Because you watched {movie_title}:\")\n",
        "for i in similar_movies:\n",
        "    print(movie_titles[i])"
      ]
    },
    {
      "cell_type": "markdown",
      "metadata": {
        "id": "fueI_r9600OU"
      },
      "source": [
        "The results above show the 10 movies that are most similar to Toy Story. Most movies in this list are family movies from the 1990s, which seems pretty reasonable. Note that these recommendations are based solely on user-item ratings. Movie features such as genres are not used in this approach."
      ]
    },
    {
      "cell_type": "markdown",
      "metadata": {
        "id": "Z6lADIAP00OV"
      },
      "source": [
        "You can also play around with the kNN distance metric and see what results you would get if you use \"manhattan\" or \"euclidean\" instead of \"cosine\"."
      ]
    },
    {
      "cell_type": "code",
      "execution_count": 42,
      "metadata": {
        "colab": {
          "base_uri": "https://localhost:8080/"
        },
        "id": "Amdj9xgz00OW",
        "outputId": "9044c8d5-0f53-462f-848c-bcbc17a63c08"
      },
      "outputs": [
        {
          "name": "stdout",
          "output_type": "stream",
          "text": [
            "Because you watched Dracula: Dead and Loving It (1995):\n",
            "Howling V: The Rebirth (1989)\n",
            "White Night Wedding (Brúðguminn) (2008)\n",
            "Phone (Pon) (2002)\n",
            "Rock 'n' Roll Nightmare (1987)\n",
            "DNA (1997)\n",
            "Resurrected, The (1992)\n",
            "Maniac Cop 2 (1990)\n",
            "Urban Ghost Story (1998)\n",
            "Cold Turkey (1971)\n"
          ]
        }
      ],
      "source": [
        "movie_id = 12\n",
        "\n",
        "similar_movies = find_similar_movies(movie_id, X, movie_mapper, movie_inv_mapper, metric='manhattan', k=10)\n",
        "movie_title = movie_titles[movie_id]\n",
        "\n",
        "print(f\"Because you watched {movie_title}:\")\n",
        "for i in similar_movies:\n",
        "    print(movie_titles[i])"
      ]
    },
    {
      "cell_type": "markdown",
      "metadata": {
        "id": "LI_EQwm600Ob"
      },
      "source": [
        "### Step 6: Handling the cold-start problem\n",
        "\n",
        "Collaborative filtering relies solely on user-item interactions within the utility matrix. The issue with this approach is that brand new users or items with no iteractions get excluded from the recommendation system. This is called the **cold start problem**. Content-based filtering is a way to handle this problem by generating recommendations based on user and item features.\n",
        "\n",
        "First, we need to convert the `genres` column into binary features. Each genre will have its own column in the dataframe, and will be populated with 0 or 1."
      ]
    },
    {
      "cell_type": "code",
      "execution_count": 43,
      "metadata": {
        "colab": {
          "base_uri": "https://localhost:8080/"
        },
        "id": "3bw6nRJm00Oc",
        "outputId": "468f392b-bddb-4314-9101-5fdae96758b8"
      },
      "outputs": [
        {
          "name": "stdout",
          "output_type": "stream",
          "text": [
            "There are 27278 unique movies in our movies dataset.\n"
          ]
        }
      ],
      "source": [
        "n_movies = movies['movieId'].nunique()\n",
        "print(f\"There are {n_movies} unique movies in our movies dataset.\")"
      ]
    },
    {
      "cell_type": "code",
      "execution_count": 44,
      "metadata": {
        "id": "ZoUn_Gf500Oc"
      },
      "outputs": [],
      "source": [
        "genres = set(g for G in movies['genres'] for g in G)\n",
        "\n",
        "for g in genres:\n",
        "    movies[g] = movies.genres.transform(lambda x: int(g in x))\n",
        "\n",
        "movie_genres = movies.drop(columns=['movieId', 'title','genres'])"
      ]
    },
    {
      "cell_type": "code",
      "execution_count": 45,
      "metadata": {},
      "outputs": [
        {
          "data": {
            "text/html": [
              "<div>\n",
              "<style scoped>\n",
              "    .dataframe tbody tr th:only-of-type {\n",
              "        vertical-align: middle;\n",
              "    }\n",
              "\n",
              "    .dataframe tbody tr th {\n",
              "        vertical-align: top;\n",
              "    }\n",
              "\n",
              "    .dataframe thead th {\n",
              "        text-align: right;\n",
              "    }\n",
              "</style>\n",
              "<table border=\"1\" class=\"dataframe\">\n",
              "  <thead>\n",
              "    <tr style=\"text-align: right;\">\n",
              "      <th></th>\n",
              "      <th>movieId</th>\n",
              "      <th>title</th>\n",
              "      <th>genres</th>\n",
              "      <th>Children</th>\n",
              "      <th>IMAX</th>\n",
              "      <th>Drama</th>\n",
              "      <th>Western</th>\n",
              "      <th>Musical</th>\n",
              "      <th>Thriller</th>\n",
              "      <th>Sci-Fi</th>\n",
              "      <th>...</th>\n",
              "      <th>(no genres listed)</th>\n",
              "      <th>Adventure</th>\n",
              "      <th>Romance</th>\n",
              "      <th>Film-Noir</th>\n",
              "      <th>War</th>\n",
              "      <th>Documentary</th>\n",
              "      <th>Horror</th>\n",
              "      <th>Animation</th>\n",
              "      <th>Mystery</th>\n",
              "      <th>Comedy</th>\n",
              "    </tr>\n",
              "  </thead>\n",
              "  <tbody>\n",
              "    <tr>\n",
              "      <th>0</th>\n",
              "      <td>1</td>\n",
              "      <td>Toy Story (1995)</td>\n",
              "      <td>[Adventure, Animation, Children, Comedy, Fantasy]</td>\n",
              "      <td>1</td>\n",
              "      <td>0</td>\n",
              "      <td>0</td>\n",
              "      <td>0</td>\n",
              "      <td>0</td>\n",
              "      <td>0</td>\n",
              "      <td>0</td>\n",
              "      <td>...</td>\n",
              "      <td>0</td>\n",
              "      <td>1</td>\n",
              "      <td>0</td>\n",
              "      <td>0</td>\n",
              "      <td>0</td>\n",
              "      <td>0</td>\n",
              "      <td>0</td>\n",
              "      <td>1</td>\n",
              "      <td>0</td>\n",
              "      <td>1</td>\n",
              "    </tr>\n",
              "    <tr>\n",
              "      <th>1</th>\n",
              "      <td>2</td>\n",
              "      <td>Jumanji (1995)</td>\n",
              "      <td>[Adventure, Children, Fantasy]</td>\n",
              "      <td>1</td>\n",
              "      <td>0</td>\n",
              "      <td>0</td>\n",
              "      <td>0</td>\n",
              "      <td>0</td>\n",
              "      <td>0</td>\n",
              "      <td>0</td>\n",
              "      <td>...</td>\n",
              "      <td>0</td>\n",
              "      <td>1</td>\n",
              "      <td>0</td>\n",
              "      <td>0</td>\n",
              "      <td>0</td>\n",
              "      <td>0</td>\n",
              "      <td>0</td>\n",
              "      <td>0</td>\n",
              "      <td>0</td>\n",
              "      <td>0</td>\n",
              "    </tr>\n",
              "    <tr>\n",
              "      <th>2</th>\n",
              "      <td>3</td>\n",
              "      <td>Grumpier Old Men (1995)</td>\n",
              "      <td>[Comedy, Romance]</td>\n",
              "      <td>0</td>\n",
              "      <td>0</td>\n",
              "      <td>0</td>\n",
              "      <td>0</td>\n",
              "      <td>0</td>\n",
              "      <td>0</td>\n",
              "      <td>0</td>\n",
              "      <td>...</td>\n",
              "      <td>0</td>\n",
              "      <td>0</td>\n",
              "      <td>1</td>\n",
              "      <td>0</td>\n",
              "      <td>0</td>\n",
              "      <td>0</td>\n",
              "      <td>0</td>\n",
              "      <td>0</td>\n",
              "      <td>0</td>\n",
              "      <td>1</td>\n",
              "    </tr>\n",
              "    <tr>\n",
              "      <th>3</th>\n",
              "      <td>4</td>\n",
              "      <td>Waiting to Exhale (1995)</td>\n",
              "      <td>[Comedy, Drama, Romance]</td>\n",
              "      <td>0</td>\n",
              "      <td>0</td>\n",
              "      <td>1</td>\n",
              "      <td>0</td>\n",
              "      <td>0</td>\n",
              "      <td>0</td>\n",
              "      <td>0</td>\n",
              "      <td>...</td>\n",
              "      <td>0</td>\n",
              "      <td>0</td>\n",
              "      <td>1</td>\n",
              "      <td>0</td>\n",
              "      <td>0</td>\n",
              "      <td>0</td>\n",
              "      <td>0</td>\n",
              "      <td>0</td>\n",
              "      <td>0</td>\n",
              "      <td>1</td>\n",
              "    </tr>\n",
              "    <tr>\n",
              "      <th>4</th>\n",
              "      <td>5</td>\n",
              "      <td>Father of the Bride Part II (1995)</td>\n",
              "      <td>[Comedy]</td>\n",
              "      <td>0</td>\n",
              "      <td>0</td>\n",
              "      <td>0</td>\n",
              "      <td>0</td>\n",
              "      <td>0</td>\n",
              "      <td>0</td>\n",
              "      <td>0</td>\n",
              "      <td>...</td>\n",
              "      <td>0</td>\n",
              "      <td>0</td>\n",
              "      <td>0</td>\n",
              "      <td>0</td>\n",
              "      <td>0</td>\n",
              "      <td>0</td>\n",
              "      <td>0</td>\n",
              "      <td>0</td>\n",
              "      <td>0</td>\n",
              "      <td>1</td>\n",
              "    </tr>\n",
              "  </tbody>\n",
              "</table>\n",
              "<p>5 rows × 23 columns</p>\n",
              "</div>"
            ],
            "text/plain": [
              "   movieId                               title  \\\n",
              "0        1                    Toy Story (1995)   \n",
              "1        2                      Jumanji (1995)   \n",
              "2        3             Grumpier Old Men (1995)   \n",
              "3        4            Waiting to Exhale (1995)   \n",
              "4        5  Father of the Bride Part II (1995)   \n",
              "\n",
              "                                              genres  Children  IMAX  Drama  \\\n",
              "0  [Adventure, Animation, Children, Comedy, Fantasy]         1     0      0   \n",
              "1                     [Adventure, Children, Fantasy]         1     0      0   \n",
              "2                                  [Comedy, Romance]         0     0      0   \n",
              "3                           [Comedy, Drama, Romance]         0     0      1   \n",
              "4                                           [Comedy]         0     0      0   \n",
              "\n",
              "   Western  Musical  Thriller  Sci-Fi  ...  (no genres listed)  Adventure  \\\n",
              "0        0        0         0       0  ...                   0          1   \n",
              "1        0        0         0       0  ...                   0          1   \n",
              "2        0        0         0       0  ...                   0          0   \n",
              "3        0        0         0       0  ...                   0          0   \n",
              "4        0        0         0       0  ...                   0          0   \n",
              "\n",
              "   Romance  Film-Noir  War  Documentary  Horror  Animation  Mystery  Comedy  \n",
              "0        0          0    0            0       0          1        0       1  \n",
              "1        0          0    0            0       0          0        0       0  \n",
              "2        1          0    0            0       0          0        0       1  \n",
              "3        1          0    0            0       0          0        0       1  \n",
              "4        0          0    0            0       0          0        0       1  \n",
              "\n",
              "[5 rows x 23 columns]"
            ]
          },
          "execution_count": 45,
          "metadata": {},
          "output_type": "execute_result"
        }
      ],
      "source": [
        "movies.head()"
      ]
    },
    {
      "cell_type": "code",
      "execution_count": 46,
      "metadata": {
        "colab": {
          "base_uri": "https://localhost:8080/",
          "height": 261
        },
        "id": "PymYsDaU00Od",
        "outputId": "63713982-b91a-4c71-ee6d-db4218166f88"
      },
      "outputs": [
        {
          "data": {
            "text/html": [
              "<div>\n",
              "<style scoped>\n",
              "    .dataframe tbody tr th:only-of-type {\n",
              "        vertical-align: middle;\n",
              "    }\n",
              "\n",
              "    .dataframe tbody tr th {\n",
              "        vertical-align: top;\n",
              "    }\n",
              "\n",
              "    .dataframe thead th {\n",
              "        text-align: right;\n",
              "    }\n",
              "</style>\n",
              "<table border=\"1\" class=\"dataframe\">\n",
              "  <thead>\n",
              "    <tr style=\"text-align: right;\">\n",
              "      <th></th>\n",
              "      <th>Children</th>\n",
              "      <th>IMAX</th>\n",
              "      <th>Drama</th>\n",
              "      <th>Western</th>\n",
              "      <th>Musical</th>\n",
              "      <th>Thriller</th>\n",
              "      <th>Sci-Fi</th>\n",
              "      <th>Fantasy</th>\n",
              "      <th>Crime</th>\n",
              "      <th>Action</th>\n",
              "      <th>(no genres listed)</th>\n",
              "      <th>Adventure</th>\n",
              "      <th>Romance</th>\n",
              "      <th>Film-Noir</th>\n",
              "      <th>War</th>\n",
              "      <th>Documentary</th>\n",
              "      <th>Horror</th>\n",
              "      <th>Animation</th>\n",
              "      <th>Mystery</th>\n",
              "      <th>Comedy</th>\n",
              "    </tr>\n",
              "  </thead>\n",
              "  <tbody>\n",
              "    <tr>\n",
              "      <th>0</th>\n",
              "      <td>1</td>\n",
              "      <td>0</td>\n",
              "      <td>0</td>\n",
              "      <td>0</td>\n",
              "      <td>0</td>\n",
              "      <td>0</td>\n",
              "      <td>0</td>\n",
              "      <td>1</td>\n",
              "      <td>0</td>\n",
              "      <td>0</td>\n",
              "      <td>0</td>\n",
              "      <td>1</td>\n",
              "      <td>0</td>\n",
              "      <td>0</td>\n",
              "      <td>0</td>\n",
              "      <td>0</td>\n",
              "      <td>0</td>\n",
              "      <td>1</td>\n",
              "      <td>0</td>\n",
              "      <td>1</td>\n",
              "    </tr>\n",
              "    <tr>\n",
              "      <th>1</th>\n",
              "      <td>1</td>\n",
              "      <td>0</td>\n",
              "      <td>0</td>\n",
              "      <td>0</td>\n",
              "      <td>0</td>\n",
              "      <td>0</td>\n",
              "      <td>0</td>\n",
              "      <td>1</td>\n",
              "      <td>0</td>\n",
              "      <td>0</td>\n",
              "      <td>0</td>\n",
              "      <td>1</td>\n",
              "      <td>0</td>\n",
              "      <td>0</td>\n",
              "      <td>0</td>\n",
              "      <td>0</td>\n",
              "      <td>0</td>\n",
              "      <td>0</td>\n",
              "      <td>0</td>\n",
              "      <td>0</td>\n",
              "    </tr>\n",
              "    <tr>\n",
              "      <th>2</th>\n",
              "      <td>0</td>\n",
              "      <td>0</td>\n",
              "      <td>0</td>\n",
              "      <td>0</td>\n",
              "      <td>0</td>\n",
              "      <td>0</td>\n",
              "      <td>0</td>\n",
              "      <td>0</td>\n",
              "      <td>0</td>\n",
              "      <td>0</td>\n",
              "      <td>0</td>\n",
              "      <td>0</td>\n",
              "      <td>1</td>\n",
              "      <td>0</td>\n",
              "      <td>0</td>\n",
              "      <td>0</td>\n",
              "      <td>0</td>\n",
              "      <td>0</td>\n",
              "      <td>0</td>\n",
              "      <td>1</td>\n",
              "    </tr>\n",
              "    <tr>\n",
              "      <th>3</th>\n",
              "      <td>0</td>\n",
              "      <td>0</td>\n",
              "      <td>1</td>\n",
              "      <td>0</td>\n",
              "      <td>0</td>\n",
              "      <td>0</td>\n",
              "      <td>0</td>\n",
              "      <td>0</td>\n",
              "      <td>0</td>\n",
              "      <td>0</td>\n",
              "      <td>0</td>\n",
              "      <td>0</td>\n",
              "      <td>1</td>\n",
              "      <td>0</td>\n",
              "      <td>0</td>\n",
              "      <td>0</td>\n",
              "      <td>0</td>\n",
              "      <td>0</td>\n",
              "      <td>0</td>\n",
              "      <td>1</td>\n",
              "    </tr>\n",
              "    <tr>\n",
              "      <th>4</th>\n",
              "      <td>0</td>\n",
              "      <td>0</td>\n",
              "      <td>0</td>\n",
              "      <td>0</td>\n",
              "      <td>0</td>\n",
              "      <td>0</td>\n",
              "      <td>0</td>\n",
              "      <td>0</td>\n",
              "      <td>0</td>\n",
              "      <td>0</td>\n",
              "      <td>0</td>\n",
              "      <td>0</td>\n",
              "      <td>0</td>\n",
              "      <td>0</td>\n",
              "      <td>0</td>\n",
              "      <td>0</td>\n",
              "      <td>0</td>\n",
              "      <td>0</td>\n",
              "      <td>0</td>\n",
              "      <td>1</td>\n",
              "    </tr>\n",
              "  </tbody>\n",
              "</table>\n",
              "</div>"
            ],
            "text/plain": [
              "   Children  IMAX  Drama  Western  Musical  Thriller  Sci-Fi  Fantasy  Crime  \\\n",
              "0         1     0      0        0        0         0       0        1      0   \n",
              "1         1     0      0        0        0         0       0        1      0   \n",
              "2         0     0      0        0        0         0       0        0      0   \n",
              "3         0     0      1        0        0         0       0        0      0   \n",
              "4         0     0      0        0        0         0       0        0      0   \n",
              "\n",
              "   Action  (no genres listed)  Adventure  Romance  Film-Noir  War  \\\n",
              "0       0                   0          1        0          0    0   \n",
              "1       0                   0          1        0          0    0   \n",
              "2       0                   0          0        1          0    0   \n",
              "3       0                   0          0        1          0    0   \n",
              "4       0                   0          0        0          0    0   \n",
              "\n",
              "   Documentary  Horror  Animation  Mystery  Comedy  \n",
              "0            0       0          1        0       1  \n",
              "1            0       0          0        0       0  \n",
              "2            0       0          0        0       1  \n",
              "3            0       0          0        0       1  \n",
              "4            0       0          0        0       1  "
            ]
          },
          "execution_count": 46,
          "metadata": {},
          "output_type": "execute_result"
        }
      ],
      "source": [
        "movie_genres.head()"
      ]
    },
    {
      "cell_type": "code",
      "execution_count": 47,
      "metadata": {
        "colab": {
          "base_uri": "https://localhost:8080/"
        },
        "id": "lmS8kYRT00Of",
        "outputId": "bb61b32b-6b23-4e7c-9bd1-19101cd4aade"
      },
      "outputs": [
        {
          "name": "stdout",
          "output_type": "stream",
          "text": [
            "Dimensions of our genres cosine similarity matrix: (27278, 27278)\n"
          ]
        }
      ],
      "source": [
        "from sklearn.metrics.pairwise import cosine_similarity\n",
        "\n",
        "cosine_sim = cosine_similarity(movie_genres, movie_genres)\n",
        "print(f\"Dimensions of our genres cosine similarity matrix: {cosine_sim.shape}\")"
      ]
    },
    {
      "cell_type": "code",
      "execution_count": 48,
      "metadata": {
        "colab": {
          "base_uri": "https://localhost:8080/"
        },
        "id": "FNWmY6J1CX-V",
        "outputId": "538417cf-39bf-447e-cfe5-b8bb47add3b8"
      },
      "outputs": [
        {
          "data": {
            "text/plain": [
              "array([[1.        , 0.77459667, 0.31622777, ..., 0.4472136 , 0.        ,\n",
              "        0.51639778],\n",
              "       [0.77459667, 1.        , 0.        , ..., 0.57735027, 0.        ,\n",
              "        0.66666667],\n",
              "       [0.31622777, 0.        , 1.        , ..., 0.        , 0.        ,\n",
              "        0.        ],\n",
              "       ...,\n",
              "       [0.4472136 , 0.57735027, 0.        , ..., 1.        , 0.        ,\n",
              "        0.57735027],\n",
              "       [0.        , 0.        , 0.        , ..., 0.        , 1.        ,\n",
              "        0.        ],\n",
              "       [0.51639778, 0.66666667, 0.        , ..., 0.57735027, 0.        ,\n",
              "        1.        ]])"
            ]
          },
          "execution_count": 48,
          "metadata": {},
          "output_type": "execute_result"
        }
      ],
      "source": [
        "cosine_sim"
      ]
    },
    {
      "cell_type": "markdown",
      "metadata": {
        "id": "G7wMpMCY00Og"
      },
      "source": [
        "As expected, after passing the `movie_genres` dataframe into the cosine_similarity() function, we get a cosine similarity matrix of shape $(n_{\\text{movies}}, n_{\\text{movies}})$.\n",
        "\n",
        "This matrix is populated with values between 0 and 1 which represent the degree of similarity between movies along the x and y axes."
      ]
    },
    {
      "cell_type": "markdown",
      "metadata": {
        "id": "gLdW7wjk00Og"
      },
      "source": [
        "### Creating a movie finder function\n",
        "Let's say we want to get recommendations for movies that are similar to Jumanji. To get results from our recommender, we need to know the exact title of a movie in our dataset.\n",
        "\n",
        "In our dataset, Jumanji is actually listed as 'Jumanji (1995)'. If we misspell Jumanji or forget to include its year of release, our recommender won't be able to identify which movie we're interested in.\n",
        "\n",
        "To make our recommender more user-friendly, we can use a Python package called [fuzzywuzzy](https://pypi.org/project/fuzzywuzzy/) which will find the most similar title to a string that you pass in. Let's create a function called `movie_finder()` which take advantage of fuzzywuzzy's string matching algorithm to get the most similar title to a user-inputted string."
      ]
    },
    {
      "cell_type": "code",
      "execution_count": 49,
      "metadata": {
        "colab": {
          "base_uri": "https://localhost:8080/"
        },
        "id": "p2g7NzLhCoGT",
        "outputId": "4fdf0fd4-8140-4cbd-e51a-a487b92b85d6"
      },
      "outputs": [
        {
          "name": "stdout",
          "output_type": "stream",
          "text": [
            "Requirement already satisfied: fuzzywuzzy in c:\\users\\akash\\appdata\\local\\programs\\python\\python38\\lib\\site-packages (0.18.0)\n"
          ]
        }
      ],
      "source": [
        "# import fuzzywuzzy\n",
        "!pip install fuzzywuzzy"
      ]
    },
    {
      "cell_type": "code",
      "execution_count": 50,
      "metadata": {
        "colab": {
          "base_uri": "https://localhost:8080/"
        },
        "id": "hgkaXl6x00Oh",
        "outputId": "1a469b3e-a3dd-429a-ccda-a0b2e329accd"
      },
      "outputs": [
        {
          "name": "stderr",
          "output_type": "stream",
          "text": [
            "c:\\Users\\akash\\AppData\\Local\\Programs\\Python\\Python38\\lib\\site-packages\\fuzzywuzzy\\fuzz.py:11: UserWarning: Using slow pure-python SequenceMatcher. Install python-Levenshtein to remove this warning\n",
            "  warnings.warn('Using slow pure-python SequenceMatcher. Install python-Levenshtein to remove this warning')\n"
          ]
        }
      ],
      "source": [
        "from fuzzywuzzy import process\n",
        "\n",
        "def movie_finder(title):\n",
        "    all_titles = movies['title'].tolist()\n",
        "    closest_match = process.extractOne(title, all_titles)\n",
        "    return closest_match[0]"
      ]
    },
    {
      "cell_type": "markdown",
      "metadata": {
        "id": "hBoXQbzf00Oi"
      },
      "source": [
        "Let's test this out with our Jumanji example."
      ]
    },
    {
      "cell_type": "code",
      "execution_count": 51,
      "metadata": {
        "colab": {
          "base_uri": "https://localhost:8080/",
          "height": 35
        },
        "id": "dsLb7EDv00Oi",
        "outputId": "712064f6-6c48-4d31-ef0a-13445e06b494"
      },
      "outputs": [
        {
          "data": {
            "text/plain": [
              "'Toy Story (1995)'"
            ]
          },
          "execution_count": 51,
          "metadata": {},
          "output_type": "execute_result"
        }
      ],
      "source": [
        "title = movie_finder('joy story')\n",
        "title"
      ]
    },
    {
      "cell_type": "markdown",
      "metadata": {
        "id": "gPUO1WrJ00Oi"
      },
      "source": [
        "To get relevant recommendations for `Jumanji`, we need to find its index in the cosine simialrity matrix. To identify which row we should be looking at, we can create a movie index mapper which maps a movie title to the index that it represents in our matrix.\n",
        "\n",
        "Let's create a movie index dictionary called `movie_idx` where the keys are movie titles and values are movie indices:"
      ]
    },
    {
      "cell_type": "code",
      "execution_count": 52,
      "metadata": {
        "colab": {
          "base_uri": "https://localhost:8080/"
        },
        "id": "5P2tkNlS00Oj",
        "outputId": "16e3b781-d355-49ff-db57-7b9cdedc5c64"
      },
      "outputs": [
        {
          "name": "stdout",
          "output_type": "stream",
          "text": [
            "Movie index for Jumanji: 0\n"
          ]
        }
      ],
      "source": [
        "movie_idx = dict(zip(movies['title'], list(movies.index)))\n",
        "idx = movie_idx[title]\n",
        "print(f\"Movie index for Jumanji: {idx}\")"
      ]
    },
    {
      "cell_type": "markdown",
      "metadata": {
        "id": "NDpkYGLc00Oj"
      },
      "source": [
        "Using this handy `movie_idx` dictionary, we know that Jumanji is represented by index 1 in our matrix. Let's get the top 10 most similar movies to Jumanji."
      ]
    },
    {
      "cell_type": "code",
      "execution_count": 53,
      "metadata": {
        "colab": {
          "base_uri": "https://localhost:8080/"
        },
        "id": "ar-J2Y9U00Ok",
        "outputId": "beff0064-bfd0-4ab4-d37d-379ceba424d2"
      },
      "outputs": [
        {
          "data": {
            "text/plain": [
              "[(2209, 0.9999999999999999),\n",
              " (3027, 0.9999999999999999),\n",
              " (3663, 0.9999999999999999),\n",
              " (3922, 0.9999999999999999),\n",
              " (4790, 0.9999999999999999),\n",
              " (10114, 0.9999999999999999),\n",
              " (10987, 0.9999999999999999),\n",
              " (11871, 0.9999999999999999),\n",
              " (13337, 0.9999999999999999),\n",
              " (18274, 0.9999999999999999)]"
            ]
          },
          "execution_count": 53,
          "metadata": {},
          "output_type": "execute_result"
        }
      ],
      "source": [
        "n_recommendations=10\n",
        "sim_scores = list(enumerate(cosine_sim[idx]))\n",
        "# sim_scores\n",
        "sim_scores = sorted(sim_scores, key=lambda x: x[1], reverse=True)\n",
        "sim_scores  = sim_scores[1:(n_recommendations+1)]\n",
        "sim_scores\n"
      ]
    },
    {
      "cell_type": "markdown",
      "metadata": {
        "id": "2l_A539k00Ok"
      },
      "source": [
        "`similar_movies` is an array of indices that represents Jumanji's top 10 recommendations. We can get the corresponding movie titles by either creating an inverse movie_idx mapper or using iloc on the title column of the movies dataframe."
      ]
    },
    {
      "cell_type": "code",
      "execution_count": 54,
      "metadata": {
        "colab": {
          "base_uri": "https://localhost:8080/"
        },
        "id": "ODtxYtJeER70",
        "outputId": "b16b800c-9f4d-449e-e69d-0cf5f8d6af88"
      },
      "outputs": [
        {
          "data": {
            "text/plain": [
              "[2209, 3027, 3663, 3922, 4790, 10114, 10987, 11871, 13337, 18274]"
            ]
          },
          "execution_count": 54,
          "metadata": {},
          "output_type": "execute_result"
        }
      ],
      "source": [
        "similar_movies = [i[0] for i in sim_scores]\n",
        "similar_movies"
      ]
    },
    {
      "cell_type": "code",
      "execution_count": 55,
      "metadata": {
        "colab": {
          "base_uri": "https://localhost:8080/"
        },
        "id": "eiBJGIV300Ok",
        "outputId": "d93c7b90-e284-4784-d93a-adaaaa07958c"
      },
      "outputs": [
        {
          "name": "stdout",
          "output_type": "stream",
          "text": [
            "Because you watched Toy Story (1995):\n"
          ]
        },
        {
          "data": {
            "text/plain": [
              "2209                                           Antz (1998)\n",
              "3027                                    Toy Story 2 (1999)\n",
              "3663        Adventures of Rocky and Bullwinkle, The (2000)\n",
              "3922                      Emperor's New Groove, The (2000)\n",
              "4790                                 Monsters, Inc. (2001)\n",
              "10114    DuckTales: The Movie - Treasure of the Lost La...\n",
              "10987                                     Wild, The (2006)\n",
              "11871                               Shrek the Third (2007)\n",
              "13337                       Tale of Despereaux, The (2008)\n",
              "18274    Asterix and the Vikings (Astérix et les Viking...\n",
              "Name: title, dtype: object"
            ]
          },
          "execution_count": 55,
          "metadata": {},
          "output_type": "execute_result"
        }
      ],
      "source": [
        "print(f\"Because you watched {title}:\")\n",
        "movies['title'].iloc[similar_movies]"
      ]
    },
    {
      "cell_type": "markdown",
      "metadata": {
        "id": "66LSxp5x00Ok"
      },
      "source": [
        "Cool! These recommendations seem pretty relevant and similar to Jumanji. The first 5 movies are family-friendly films from the 90s."
      ]
    },
    {
      "cell_type": "markdown",
      "metadata": {
        "id": "5-fpdhpF00Ol"
      },
      "source": [
        "We can test our recommender further with other movie titles. For your convenience, let's package the steps into a single function which takes in the movie title of interest and number of recommendations."
      ]
    },
    {
      "cell_type": "code",
      "execution_count": 56,
      "metadata": {
        "id": "EhYpI0Ll00Ol"
      },
      "outputs": [],
      "source": [
        "def get_content_based_recommendations(title_string, n_recommendations=10):\n",
        "    title = movie_finder(title_string)\n",
        "    idx = movie_idx[title]\n",
        "    sim_scores = list(enumerate(cosine_sim[idx]))\n",
        "    sim_scores = sorted(sim_scores, key=lambda x: x[1], reverse=True)\n",
        "    sim_scores = sim_scores[1:(n_recommendations+1)]\n",
        "    similar_movies = [i[0] for i in sim_scores]\n",
        "    print(f\"Because you watched {title}:\")\n",
        "    print(movies['title'].iloc[similar_movies])"
      ]
    },
    {
      "cell_type": "code",
      "execution_count": 57,
      "metadata": {
        "colab": {
          "base_uri": "https://localhost:8080/"
        },
        "id": "pWhXJlY000Om",
        "outputId": "16f1511f-5810-43d1-b55a-8e818ccc9adc"
      },
      "outputs": [
        {
          "name": "stdout",
          "output_type": "stream",
          "text": [
            "Because you watched Toy Story (1995):\n",
            "2209                                       Antz (1998)\n",
            "3027                                Toy Story 2 (1999)\n",
            "3663    Adventures of Rocky and Bullwinkle, The (2000)\n",
            "3922                  Emperor's New Groove, The (2000)\n",
            "4790                             Monsters, Inc. (2001)\n",
            "Name: title, dtype: object\n"
          ]
        }
      ],
      "source": [
        "get_content_based_recommendations('toy story', 5)"
      ]
    },
    {
      "cell_type": "markdown",
      "metadata": {
        "id": "5jLB4QqI00Oo"
      },
      "source": [
        "### Step 7: Dimensionality Reduction with Matrix Factorization (advanced)\n",
        "\n",
        "Matrix factorization (MF) is a linear algebra technique that can help us discover latent features underlying the interactions between users and movies. These latent features give a more compact representation of user tastes and item descriptions. MF is particularly useful for very sparse data and can enhance the quality of recommendations. The algorithm works by factorizing the original user-item matrix into two factor matrices:\n",
        "\n",
        "- user-factor matrix (n_users, k)\n",
        "- item-factor matrix (k, n_items)\n",
        "\n",
        "We are reducing the dimensions of our original matrix into \"taste\" dimensions. We cannot interpret what each latent feature $k$ represents. However, we could imagine that one latent feature may represent users who like romantic comedies from the 1990s, while another latent feature may represent movies which are independent foreign language films.\n",
        "\n",
        "$$X_{mn}\\approx P_{mk}\\times Q_{nk}^T = \\hat{X} $$\n",
        "<img src=\"https://github.com/topspinj/tmls-2020-recommender-workshop/blob/master/images/matrix_factorization.png?raw=1\" width=\"50%\"/>"
      ]
    },
    {
      "cell_type": "code",
      "execution_count": 58,
      "metadata": {
        "colab": {
          "base_uri": "https://localhost:8080/"
        },
        "id": "heXjePUB00Oq",
        "outputId": "d7e399e4-bae3-41b7-a302-212dbe0b0030"
      },
      "outputs": [
        {
          "data": {
            "text/plain": [
              "(26744, 20)"
            ]
          },
          "execution_count": 58,
          "metadata": {},
          "output_type": "execute_result"
        }
      ],
      "source": [
        "from sklearn.decomposition import TruncatedSVD\n",
        "\n",
        "svd = TruncatedSVD(n_components= 20, n_iter=10)\n",
        "Q = svd.fit_transform(X.T)\n",
        "Q.shape"
      ]
    },
    {
      "cell_type": "code",
      "execution_count": 59,
      "metadata": {
        "colab": {
          "base_uri": "https://localhost:8080/"
        },
        "id": "T7ktlqwDFVEd",
        "outputId": "a776eff1-ff76-417f-8cc7-e0a8289d4d13"
      },
      "outputs": [
        {
          "data": {
            "text/plain": [
              "(138493, 26744)"
            ]
          },
          "execution_count": 59,
          "metadata": {},
          "output_type": "execute_result"
        }
      ],
      "source": [
        "X.shape"
      ]
    },
    {
      "cell_type": "code",
      "execution_count": 60,
      "metadata": {
        "colab": {
          "base_uri": "https://localhost:8080/"
        },
        "id": "JTm1iSdc00Or",
        "outputId": "ddfb1ff4-a246-49b8-ecaf-3710eb8c1794"
      },
      "outputs": [
        {
          "name": "stdout",
          "output_type": "stream",
          "text": [
            "Because you watched Toy Story (1995):\n",
            "Willy Wonka & the Chocolate Factory (1971)\n",
            "Independence Day (a.k.a. ID4) (1996)\n",
            "Mission: Impossible (1996)\n",
            "James and the Giant Peach (1996)\n",
            "Toy Story 2 (1999)\n",
            "Twister (1996)\n",
            "Star Wars: Episode IV - A New Hope (1977)\n",
            "Lion King, The (1994)\n",
            "Rock, The (1996)\n"
          ]
        }
      ],
      "source": [
        "movie_id = 1\n",
        "similar_movies = find_similar_movies(movie_id, Q.T, movie_mapper, movie_inv_mapper, metric='cosine', k=10)\n",
        "movie_title = movie_titles[movie_id]\n",
        "\n",
        "print(f\"Because you watched {movie_title}:\")\n",
        "for i in similar_movies:\n",
        "    print(movie_titles[i])"
      ]
    },
    {
      "cell_type": "markdown",
      "metadata": {
        "id": "EChrxZwX00Ot"
      },
      "source": [
        "The results above are the most similar movies to Toy Story using kNN on our “compressed” movie-factor matrix. We reduced the dimensions down to n_components=20. We can think of each component representing a latent feature such as movie genre."
      ]
    }
  ],
  "metadata": {
    "accelerator": "GPU",
    "colab": {
      "gpuType": "T4",
      "provenance": []
    },
    "kernelspec": {
      "display_name": "Python 3",
      "name": "python3"
    },
    "language_info": {
      "codemirror_mode": {
        "name": "ipython",
        "version": 3
      },
      "file_extension": ".py",
      "mimetype": "text/x-python",
      "name": "python",
      "nbconvert_exporter": "python",
      "pygments_lexer": "ipython3",
      "version": "3.8.10"
    }
  },
  "nbformat": 4,
  "nbformat_minor": 0
}
